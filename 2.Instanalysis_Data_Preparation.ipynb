{
 "cells": [
  {
   "cell_type": "markdown",
   "metadata": {},
   "source": [
    "# Preparing the dataset:\n",
    "# Splitting the dataset into a training set and a set with new data"
   ]
  },
  {
   "cell_type": "code",
   "execution_count": 1,
   "metadata": {},
   "outputs": [],
   "source": [
    "import pandas as pd\n",
    "import numpy as np"
   ]
  },
  {
   "cell_type": "code",
   "execution_count": 2,
   "metadata": {},
   "outputs": [],
   "source": [
    "post_comments_labelled = pd.read_csv('post_comments_labelled.csv', delimiter=';')"
   ]
  },
  {
   "cell_type": "code",
   "execution_count": 3,
   "metadata": {},
   "outputs": [
    {
     "data": {
      "text/html": [
       "<div>\n",
       "<style scoped>\n",
       "    .dataframe tbody tr th:only-of-type {\n",
       "        vertical-align: middle;\n",
       "    }\n",
       "\n",
       "    .dataframe tbody tr th {\n",
       "        vertical-align: top;\n",
       "    }\n",
       "\n",
       "    .dataframe thead th {\n",
       "        text-align: right;\n",
       "    }\n",
       "</style>\n",
       "<table border=\"1\" class=\"dataframe\">\n",
       "  <thead>\n",
       "    <tr style=\"text-align: right;\">\n",
       "      <th></th>\n",
       "      <th>id</th>\n",
       "      <th>url</th>\n",
       "      <th>comment_author</th>\n",
       "      <th>contents</th>\n",
       "      <th>time_posted</th>\n",
       "      <th>user_name_post_author</th>\n",
       "      <th>Sentiment</th>\n",
       "    </tr>\n",
       "  </thead>\n",
       "  <tbody>\n",
       "    <tr>\n",
       "      <th>0</th>\n",
       "      <td>17.0</td>\n",
       "      <td>https://www.instagram.com/p/B70BFS2gx14/</td>\n",
       "      <td>follstore_idn</td>\n",
       "      <td>LikesViewsFollowersNya!</td>\n",
       "      <td>2020-01-27 07:18:28+01</td>\n",
       "      <td>instagram</td>\n",
       "      <td>Neutral</td>\n",
       "    </tr>\n",
       "    <tr>\n",
       "      <th>1</th>\n",
       "      <td>18.0</td>\n",
       "      <td>https://www.instagram.com/p/B70BFS2gx14/</td>\n",
       "      <td>bidobidorised_</td>\n",
       "      <td>❤️❤️</td>\n",
       "      <td>2020-01-27 07:18:28+01</td>\n",
       "      <td>instagram</td>\n",
       "      <td>Positive</td>\n",
       "    </tr>\n",
       "    <tr>\n",
       "      <th>2</th>\n",
       "      <td>19.0</td>\n",
       "      <td>https://www.instagram.com/p/B70BFS2gx14/</td>\n",
       "      <td>hadirezaeimusic</td>\n",
       "      <td>💖❤</td>\n",
       "      <td>2020-01-27 07:18:28+01</td>\n",
       "      <td>instagram</td>\n",
       "      <td>Positive</td>\n",
       "    </tr>\n",
       "    <tr>\n",
       "      <th>3</th>\n",
       "      <td>20.0</td>\n",
       "      <td>https://www.instagram.com/p/B70BFS2gx14/</td>\n",
       "      <td>sonurai5762</td>\n",
       "      <td>❤️❤️🔥❤️🔥</td>\n",
       "      <td>2020-01-27 07:18:28+01</td>\n",
       "      <td>instagram</td>\n",
       "      <td>Positive</td>\n",
       "    </tr>\n",
       "    <tr>\n",
       "      <th>4</th>\n",
       "      <td>21.0</td>\n",
       "      <td>https://www.instagram.com/p/B70BFS2gx14/</td>\n",
       "      <td>volkancatikkas</td>\n",
       "      <td>👽✌🏻</td>\n",
       "      <td>2020-01-27 07:18:28+01</td>\n",
       "      <td>instagram</td>\n",
       "      <td>Neutral</td>\n",
       "    </tr>\n",
       "    <tr>\n",
       "      <th>...</th>\n",
       "      <td>...</td>\n",
       "      <td>...</td>\n",
       "      <td>...</td>\n",
       "      <td>...</td>\n",
       "      <td>...</td>\n",
       "      <td>...</td>\n",
       "      <td>...</td>\n",
       "    </tr>\n",
       "    <tr>\n",
       "      <th>23825</th>\n",
       "      <td>NaN</td>\n",
       "      <td>NaN</td>\n",
       "      <td>NaN</td>\n",
       "      <td>I don’t think size has much to do with feminin...</td>\n",
       "      <td>NaN</td>\n",
       "      <td>NaN</td>\n",
       "      <td>Negative</td>\n",
       "    </tr>\n",
       "    <tr>\n",
       "      <th>23826</th>\n",
       "      <td>NaN</td>\n",
       "      <td>NaN</td>\n",
       "      <td>NaN</td>\n",
       "      <td>No. No. And no. Only people with a sick mind c...</td>\n",
       "      <td>NaN</td>\n",
       "      <td>NaN</td>\n",
       "      <td>Negative</td>\n",
       "    </tr>\n",
       "    <tr>\n",
       "      <th>23827</th>\n",
       "      <td>NaN</td>\n",
       "      <td>NaN</td>\n",
       "      <td>NaN</td>\n",
       "      <td>I really support her confidence,but obesity is...</td>\n",
       "      <td>NaN</td>\n",
       "      <td>NaN</td>\n",
       "      <td>Negative</td>\n",
       "    </tr>\n",
       "    <tr>\n",
       "      <th>23828</th>\n",
       "      <td>NaN</td>\n",
       "      <td>NaN</td>\n",
       "      <td>NaN</td>\n",
       "      <td>Obesity is dangerous. How can you support that!?</td>\n",
       "      <td>NaN</td>\n",
       "      <td>NaN</td>\n",
       "      <td>Negative</td>\n",
       "    </tr>\n",
       "    <tr>\n",
       "      <th>23829</th>\n",
       "      <td>NaN</td>\n",
       "      <td>NaN</td>\n",
       "      <td>NaN</td>\n",
       "      <td>If you think it's beautiful, you need help. It...</td>\n",
       "      <td>NaN</td>\n",
       "      <td>NaN</td>\n",
       "      <td>Negative</td>\n",
       "    </tr>\n",
       "  </tbody>\n",
       "</table>\n",
       "<p>23830 rows × 7 columns</p>\n",
       "</div>"
      ],
      "text/plain": [
       "         id                                       url   comment_author  \\\n",
       "0      17.0  https://www.instagram.com/p/B70BFS2gx14/    follstore_idn   \n",
       "1      18.0  https://www.instagram.com/p/B70BFS2gx14/   bidobidorised_   \n",
       "2      19.0  https://www.instagram.com/p/B70BFS2gx14/  hadirezaeimusic   \n",
       "3      20.0  https://www.instagram.com/p/B70BFS2gx14/      sonurai5762   \n",
       "4      21.0  https://www.instagram.com/p/B70BFS2gx14/   volkancatikkas   \n",
       "...     ...                                       ...              ...   \n",
       "23825   NaN                                       NaN              NaN   \n",
       "23826   NaN                                       NaN              NaN   \n",
       "23827   NaN                                       NaN              NaN   \n",
       "23828   NaN                                       NaN              NaN   \n",
       "23829   NaN                                       NaN              NaN   \n",
       "\n",
       "                                                contents  \\\n",
       "0                                LikesViewsFollowersNya!   \n",
       "1                                                   ❤️❤️   \n",
       "2                                                     💖❤   \n",
       "3                                               ❤️❤️🔥❤️🔥   \n",
       "4                                                    👽✌🏻   \n",
       "...                                                  ...   \n",
       "23825  I don’t think size has much to do with feminin...   \n",
       "23826  No. No. And no. Only people with a sick mind c...   \n",
       "23827  I really support her confidence,but obesity is...   \n",
       "23828   Obesity is dangerous. How can you support that!?   \n",
       "23829  If you think it's beautiful, you need help. It...   \n",
       "\n",
       "                  time_posted user_name_post_author Sentiment  \n",
       "0      2020-01-27 07:18:28+01             instagram   Neutral  \n",
       "1      2020-01-27 07:18:28+01             instagram  Positive  \n",
       "2      2020-01-27 07:18:28+01             instagram  Positive  \n",
       "3      2020-01-27 07:18:28+01             instagram  Positive  \n",
       "4      2020-01-27 07:18:28+01             instagram   Neutral  \n",
       "...                       ...                   ...       ...  \n",
       "23825                     NaN                   NaN  Negative  \n",
       "23826                     NaN                   NaN  Negative  \n",
       "23827                     NaN                   NaN  Negative  \n",
       "23828                     NaN                   NaN  Negative  \n",
       "23829                     NaN                   NaN  Negative  \n",
       "\n",
       "[23830 rows x 7 columns]"
      ]
     },
     "execution_count": 3,
     "metadata": {},
     "output_type": "execute_result"
    }
   ],
   "source": [
    "post_comments_labelled"
   ]
  },
  {
   "cell_type": "code",
   "execution_count": 4,
   "metadata": {},
   "outputs": [
    {
     "data": {
      "text/plain": [
       "id                       23819\n",
       "url                      23819\n",
       "comment_author           23819\n",
       "contents                 23830\n",
       "time_posted              23820\n",
       "user_name_post_author    23819\n",
       "Sentiment                  424\n",
       "dtype: int64"
      ]
     },
     "execution_count": 4,
     "metadata": {},
     "output_type": "execute_result"
    }
   ],
   "source": [
    "post_comments_labelled.count()"
   ]
  },
  {
   "cell_type": "code",
   "execution_count": 5,
   "metadata": {},
   "outputs": [],
   "source": [
    "post_comments_labelled = post_comments_labelled.drop(post_comments_labelled[post_comments_labelled.contents == 'Bestätigt'].index)"
   ]
  },
  {
   "cell_type": "code",
   "execution_count": 6,
   "metadata": {},
   "outputs": [],
   "source": [
    "post_comments_labelled.to_csv('post_comments_labelled.csv', index=False)"
   ]
  },
  {
   "cell_type": "code",
   "execution_count": 7,
   "metadata": {},
   "outputs": [],
   "source": [
    "post_comments_1 = post_comments_labelled.loc[post_comments_labelled['Sentiment']=='Positive']"
   ]
  },
  {
   "cell_type": "code",
   "execution_count": 8,
   "metadata": {},
   "outputs": [],
   "source": [
    "post_comments_2 = post_comments_labelled.loc[post_comments_labelled['Sentiment']=='Negative']"
   ]
  },
  {
   "cell_type": "code",
   "execution_count": 9,
   "metadata": {},
   "outputs": [],
   "source": [
    "post_comments_3 = post_comments_labelled.loc[post_comments_labelled['Sentiment']=='Neutral']"
   ]
  },
  {
   "cell_type": "code",
   "execution_count": 10,
   "metadata": {},
   "outputs": [],
   "source": [
    "frames = [post_comments_1, post_comments_2, post_comments_3]"
   ]
  },
  {
   "cell_type": "code",
   "execution_count": 11,
   "metadata": {},
   "outputs": [],
   "source": [
    "post_comments_train = pd.concat(frames)"
   ]
  },
  {
   "cell_type": "code",
   "execution_count": 12,
   "metadata": {},
   "outputs": [
    {
     "data": {
      "text/html": [
       "<div>\n",
       "<style scoped>\n",
       "    .dataframe tbody tr th:only-of-type {\n",
       "        vertical-align: middle;\n",
       "    }\n",
       "\n",
       "    .dataframe tbody tr th {\n",
       "        vertical-align: top;\n",
       "    }\n",
       "\n",
       "    .dataframe thead th {\n",
       "        text-align: right;\n",
       "    }\n",
       "</style>\n",
       "<table border=\"1\" class=\"dataframe\">\n",
       "  <thead>\n",
       "    <tr style=\"text-align: right;\">\n",
       "      <th></th>\n",
       "      <th>id</th>\n",
       "      <th>url</th>\n",
       "      <th>comment_author</th>\n",
       "      <th>contents</th>\n",
       "      <th>time_posted</th>\n",
       "      <th>user_name_post_author</th>\n",
       "      <th>Sentiment</th>\n",
       "    </tr>\n",
       "  </thead>\n",
       "  <tbody>\n",
       "    <tr>\n",
       "      <th>1</th>\n",
       "      <td>18.0</td>\n",
       "      <td>https://www.instagram.com/p/B70BFS2gx14/</td>\n",
       "      <td>bidobidorised_</td>\n",
       "      <td>❤️❤️</td>\n",
       "      <td>2020-01-27 07:18:28+01</td>\n",
       "      <td>instagram</td>\n",
       "      <td>Positive</td>\n",
       "    </tr>\n",
       "    <tr>\n",
       "      <th>2</th>\n",
       "      <td>19.0</td>\n",
       "      <td>https://www.instagram.com/p/B70BFS2gx14/</td>\n",
       "      <td>hadirezaeimusic</td>\n",
       "      <td>💖❤</td>\n",
       "      <td>2020-01-27 07:18:28+01</td>\n",
       "      <td>instagram</td>\n",
       "      <td>Positive</td>\n",
       "    </tr>\n",
       "    <tr>\n",
       "      <th>3</th>\n",
       "      <td>20.0</td>\n",
       "      <td>https://www.instagram.com/p/B70BFS2gx14/</td>\n",
       "      <td>sonurai5762</td>\n",
       "      <td>❤️❤️🔥❤️🔥</td>\n",
       "      <td>2020-01-27 07:18:28+01</td>\n",
       "      <td>instagram</td>\n",
       "      <td>Positive</td>\n",
       "    </tr>\n",
       "    <tr>\n",
       "      <th>5</th>\n",
       "      <td>22.0</td>\n",
       "      <td>https://www.instagram.com/p/B70BFS2gx14/</td>\n",
       "      <td>md_qizar_01</td>\n",
       "      <td>👌👌👌</td>\n",
       "      <td>2020-01-27 07:18:28+01</td>\n",
       "      <td>instagram</td>\n",
       "      <td>Positive</td>\n",
       "    </tr>\n",
       "    <tr>\n",
       "      <th>6</th>\n",
       "      <td>23.0</td>\n",
       "      <td>https://www.instagram.com/p/B70BFS2gx14/</td>\n",
       "      <td>md_qizar_01</td>\n",
       "      <td>🔥🔥🔥</td>\n",
       "      <td>2020-01-27 07:18:28+01</td>\n",
       "      <td>instagram</td>\n",
       "      <td>Positive</td>\n",
       "    </tr>\n",
       "  </tbody>\n",
       "</table>\n",
       "</div>"
      ],
      "text/plain": [
       "     id                                       url   comment_author  contents  \\\n",
       "1  18.0  https://www.instagram.com/p/B70BFS2gx14/   bidobidorised_      ❤️❤️   \n",
       "2  19.0  https://www.instagram.com/p/B70BFS2gx14/  hadirezaeimusic        💖❤   \n",
       "3  20.0  https://www.instagram.com/p/B70BFS2gx14/      sonurai5762  ❤️❤️🔥❤️🔥   \n",
       "5  22.0  https://www.instagram.com/p/B70BFS2gx14/      md_qizar_01       👌👌👌   \n",
       "6  23.0  https://www.instagram.com/p/B70BFS2gx14/      md_qizar_01       🔥🔥🔥   \n",
       "\n",
       "              time_posted user_name_post_author Sentiment  \n",
       "1  2020-01-27 07:18:28+01             instagram  Positive  \n",
       "2  2020-01-27 07:18:28+01             instagram  Positive  \n",
       "3  2020-01-27 07:18:28+01             instagram  Positive  \n",
       "5  2020-01-27 07:18:28+01             instagram  Positive  \n",
       "6  2020-01-27 07:18:28+01             instagram  Positive  "
      ]
     },
     "execution_count": 12,
     "metadata": {},
     "output_type": "execute_result"
    }
   ],
   "source": [
    "post_comments_train.head()"
   ]
  },
  {
   "cell_type": "code",
   "execution_count": 13,
   "metadata": {},
   "outputs": [
    {
     "data": {
      "text/plain": [
       "id                       413\n",
       "url                      413\n",
       "comment_author           413\n",
       "contents                 424\n",
       "time_posted              414\n",
       "user_name_post_author    413\n",
       "Sentiment                424\n",
       "dtype: int64"
      ]
     },
     "execution_count": 13,
     "metadata": {},
     "output_type": "execute_result"
    }
   ],
   "source": [
    "post_comments_train.count()"
   ]
  },
  {
   "cell_type": "markdown",
   "metadata": {},
   "source": [
    "shuffing the rows in the train dataframe:"
   ]
  },
  {
   "cell_type": "code",
   "execution_count": 14,
   "metadata": {},
   "outputs": [],
   "source": [
    "post_comments_train_shuffled = post_comments_train.sample(frac=1).reset_index(drop=True)"
   ]
  },
  {
   "cell_type": "markdown",
   "metadata": {},
   "source": [
    "turning emojis into their written names:"
   ]
  },
  {
   "cell_type": "code",
   "execution_count": 15,
   "metadata": {},
   "outputs": [],
   "source": [
    "import emoji"
   ]
  },
  {
   "cell_type": "code",
   "execution_count": 16,
   "metadata": {},
   "outputs": [],
   "source": [
    "post_comments_train_shuffled['contents'] = post_comments_train_shuffled['contents'].apply(emoji.demojize)"
   ]
  },
  {
   "cell_type": "code",
   "execution_count": 17,
   "metadata": {},
   "outputs": [
    {
     "data": {
      "text/html": [
       "<div>\n",
       "<style scoped>\n",
       "    .dataframe tbody tr th:only-of-type {\n",
       "        vertical-align: middle;\n",
       "    }\n",
       "\n",
       "    .dataframe tbody tr th {\n",
       "        vertical-align: top;\n",
       "    }\n",
       "\n",
       "    .dataframe thead th {\n",
       "        text-align: right;\n",
       "    }\n",
       "</style>\n",
       "<table border=\"1\" class=\"dataframe\">\n",
       "  <thead>\n",
       "    <tr style=\"text-align: right;\">\n",
       "      <th></th>\n",
       "      <th>id</th>\n",
       "      <th>url</th>\n",
       "      <th>comment_author</th>\n",
       "      <th>contents</th>\n",
       "      <th>time_posted</th>\n",
       "      <th>user_name_post_author</th>\n",
       "      <th>Sentiment</th>\n",
       "    </tr>\n",
       "  </thead>\n",
       "  <tbody>\n",
       "    <tr>\n",
       "      <th>0</th>\n",
       "      <td>318.0</td>\n",
       "      <td>https://www.instagram.com/p/B7ZC-4wFVVH/</td>\n",
       "      <td>ridwnsomawijaya</td>\n",
       "      <td>:fire:</td>\n",
       "      <td>2020-01-16 19:55:34+01</td>\n",
       "      <td>instagram</td>\n",
       "      <td>Positive</td>\n",
       "    </tr>\n",
       "    <tr>\n",
       "      <th>1</th>\n",
       "      <td>176.0</td>\n",
       "      <td>https://www.instagram.com/p/B7UBbVHFxH9/</td>\n",
       "      <td>trulytingz</td>\n",
       "      <td>I LOVE YOU</td>\n",
       "      <td>2020-01-14 21:05:57+01</td>\n",
       "      <td>arianagrande</td>\n",
       "      <td>Positive</td>\n",
       "    </tr>\n",
       "    <tr>\n",
       "      <th>2</th>\n",
       "      <td>300.0</td>\n",
       "      <td>https://www.instagram.com/p/B7bd1APhTU4/</td>\n",
       "      <td>chien8112</td>\n",
       "      <td>@siaoyisin @jbm_rich 學起來:rolling_on_the_floor_...</td>\n",
       "      <td>2020-01-17 18:28:38+01</td>\n",
       "      <td>instagram</td>\n",
       "      <td>Neutral</td>\n",
       "    </tr>\n",
       "    <tr>\n",
       "      <th>3</th>\n",
       "      <td>1280.0</td>\n",
       "      <td>https://www.instagram.com/p/B6Gqwv3AkmM/</td>\n",
       "      <td>official.0341</td>\n",
       "      <td>:face_with_open_mouth::face_with_open_mouth:</td>\n",
       "      <td>2019-12-15T19:06:12.000Z</td>\n",
       "      <td>instagram</td>\n",
       "      <td>Neutral</td>\n",
       "    </tr>\n",
       "    <tr>\n",
       "      <th>4</th>\n",
       "      <td>11149.0</td>\n",
       "      <td>https://www.instagram.com/p/B3nEAzdgJVM/</td>\n",
       "      <td>amirhossein_mie</td>\n",
       "      <td>Me models irani</td>\n",
       "      <td>2019-10-14T19:28:22.000Z</td>\n",
       "      <td>nike</td>\n",
       "      <td>Neutral</td>\n",
       "    </tr>\n",
       "  </tbody>\n",
       "</table>\n",
       "</div>"
      ],
      "text/plain": [
       "        id                                       url   comment_author  \\\n",
       "0    318.0  https://www.instagram.com/p/B7ZC-4wFVVH/  ridwnsomawijaya   \n",
       "1    176.0  https://www.instagram.com/p/B7UBbVHFxH9/       trulytingz   \n",
       "2    300.0  https://www.instagram.com/p/B7bd1APhTU4/        chien8112   \n",
       "3   1280.0  https://www.instagram.com/p/B6Gqwv3AkmM/    official.0341   \n",
       "4  11149.0  https://www.instagram.com/p/B3nEAzdgJVM/  amirhossein_mie   \n",
       "\n",
       "                                            contents  \\\n",
       "0                                             :fire:   \n",
       "1                                         I LOVE YOU   \n",
       "2  @siaoyisin @jbm_rich 學起來:rolling_on_the_floor_...   \n",
       "3       :face_with_open_mouth::face_with_open_mouth:   \n",
       "4                                    Me models irani   \n",
       "\n",
       "                time_posted user_name_post_author Sentiment  \n",
       "0    2020-01-16 19:55:34+01             instagram  Positive  \n",
       "1    2020-01-14 21:05:57+01          arianagrande  Positive  \n",
       "2    2020-01-17 18:28:38+01             instagram   Neutral  \n",
       "3  2019-12-15T19:06:12.000Z             instagram   Neutral  \n",
       "4  2019-10-14T19:28:22.000Z                  nike   Neutral  "
      ]
     },
     "execution_count": 17,
     "metadata": {},
     "output_type": "execute_result"
    }
   ],
   "source": [
    "post_comments_train_shuffled.head()"
   ]
  },
  {
   "cell_type": "markdown",
   "metadata": {},
   "source": [
    "saving the training dataframe into a csv file:"
   ]
  },
  {
   "cell_type": "code",
   "execution_count": 23,
   "metadata": {},
   "outputs": [],
   "source": [
    "post_comments_train_shuffled.to_csv('post_comments_train.csv', index=False)"
   ]
  },
  {
   "cell_type": "markdown",
   "metadata": {},
   "source": [
    "preparing the new unlabelled data:"
   ]
  },
  {
   "cell_type": "code",
   "execution_count": 24,
   "metadata": {},
   "outputs": [],
   "source": [
    "post_comments_newdata = post_comments_labelled[post_comments_labelled.Sentiment.isna()]"
   ]
  },
  {
   "cell_type": "markdown",
   "metadata": {},
   "source": [
    "shuffiling the newdata dataframe:"
   ]
  },
  {
   "cell_type": "code",
   "execution_count": 25,
   "metadata": {},
   "outputs": [],
   "source": [
    "post_comments_newdata_shuffled = post_comments_newdata.sample(frac=1).reset_index(drop=True)"
   ]
  },
  {
   "cell_type": "code",
   "execution_count": 26,
   "metadata": {},
   "outputs": [],
   "source": [
    "post_comments_newdata_shuffled['contents'] = post_comments_newdata_shuffled['contents'].apply(emoji.demojize)"
   ]
  },
  {
   "cell_type": "code",
   "execution_count": 28,
   "metadata": {},
   "outputs": [],
   "source": [
    "from langdetect import DetectorFactory"
   ]
  },
  {
   "cell_type": "code",
   "execution_count": 30,
   "metadata": {},
   "outputs": [],
   "source": [
    "from langdetect import detect"
   ]
  },
  {
   "cell_type": "code",
   "execution_count": 36,
   "metadata": {},
   "outputs": [],
   "source": [
    "from langdetect.lang_detect_exception import LangDetectException"
   ]
  },
  {
   "cell_type": "code",
   "execution_count": 29,
   "metadata": {},
   "outputs": [],
   "source": [
    "DetectorFactory.seed = 0"
   ]
  },
  {
   "cell_type": "code",
   "execution_count": 37,
   "metadata": {},
   "outputs": [],
   "source": [
    "for x in post_comments_newdata_shuffled['contents']:\n",
    "    try:\n",
    "        if detect(x) != 'en':\n",
    "            post_comments_newdata_shuffled.drop(post_comments_newdata_shuffled[post_comments_newdata_shuffled.contents == x].index)\n",
    "    except LangDetectException:\n",
    "        pass"
   ]
  },
  {
   "cell_type": "markdown",
   "metadata": {},
   "source": [
    "and then saving the dataframe with new data into a csv file:"
   ]
  },
  {
   "cell_type": "code",
   "execution_count": 40,
   "metadata": {},
   "outputs": [],
   "source": [
    "post_comments_newdata_shuffled.to_csv('post_comments_newdata.csv', index=False)"
   ]
  },
  {
   "cell_type": "markdown",
   "metadata": {},
   "source": [
    "preparing a first batch of test data from the new data:"
   ]
  },
  {
   "cell_type": "code",
   "execution_count": 41,
   "metadata": {},
   "outputs": [],
   "source": [
    "post_comments_test = post_comments_newdata_shuffled.loc[:100]"
   ]
  },
  {
   "cell_type": "code",
   "execution_count": 42,
   "metadata": {},
   "outputs": [],
   "source": [
    "post_comments_test.to_csv('post_comments_test_NB.csv', index=False)"
   ]
  }
 ],
 "metadata": {
  "kernelspec": {
   "display_name": "Python 3",
   "language": "python",
   "name": "python3"
  },
  "language_info": {
   "codemirror_mode": {
    "name": "ipython",
    "version": 3
   },
   "file_extension": ".py",
   "mimetype": "text/x-python",
   "name": "python",
   "nbconvert_exporter": "python",
   "pygments_lexer": "ipython3",
   "version": "3.7.3"
  }
 },
 "nbformat": 4,
 "nbformat_minor": 2
}
