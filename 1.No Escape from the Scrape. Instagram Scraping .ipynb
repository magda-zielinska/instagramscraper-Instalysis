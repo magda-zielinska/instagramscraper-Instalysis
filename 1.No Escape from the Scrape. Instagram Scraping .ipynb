{
 "cells": [
  {
   "cell_type": "markdown",
   "metadata": {},
   "source": [
    "# Instagram Scraping \n",
    "\n",
    "# Data Analysis - Part I - Landscape of 50 most followed profiles"
   ]
  },
  {
   "cell_type": "code",
   "execution_count": 1,
   "metadata": {},
   "outputs": [],
   "source": [
    "import pandas as pd\n",
    "import numpy as np"
   ]
  },
  {
   "cell_type": "code",
   "execution_count": 4,
   "metadata": {},
   "outputs": [],
   "source": [
    "most_followed = pd.read_csv('most_followed.csv', delimiter=';')"
   ]
  },
  {
   "cell_type": "code",
   "execution_count": 5,
   "metadata": {},
   "outputs": [
    {
     "data": {
      "text/html": [
       "<div>\n",
       "<style scoped>\n",
       "    .dataframe tbody tr th:only-of-type {\n",
       "        vertical-align: middle;\n",
       "    }\n",
       "\n",
       "    .dataframe tbody tr th {\n",
       "        vertical-align: top;\n",
       "    }\n",
       "\n",
       "    .dataframe thead th {\n",
       "        text-align: right;\n",
       "    }\n",
       "</style>\n",
       "<table border=\"1\" class=\"dataframe\">\n",
       "  <thead>\n",
       "    <tr style=\"text-align: right;\">\n",
       "      <th></th>\n",
       "      <th>id</th>\n",
       "      <th>account_username</th>\n",
       "      <th>real_name</th>\n",
       "      <th>link_to_profile</th>\n",
       "      <th>number_of_followers</th>\n",
       "      <th>number_of_posts</th>\n",
       "      <th>gender</th>\n",
       "      <th>real_person</th>\n",
       "      <th>profession</th>\n",
       "    </tr>\n",
       "  </thead>\n",
       "  <tbody>\n",
       "    <tr>\n",
       "      <th>0</th>\n",
       "      <td>1</td>\n",
       "      <td>instagram</td>\n",
       "      <td>instagram</td>\n",
       "      <td>https://www.instagram.com/instagram/</td>\n",
       "      <td>329000000</td>\n",
       "      <td>6198</td>\n",
       "      <td>NaN</td>\n",
       "      <td>f</td>\n",
       "      <td>NaN</td>\n",
       "    </tr>\n",
       "    <tr>\n",
       "      <th>1</th>\n",
       "      <td>2</td>\n",
       "      <td>cristiano</td>\n",
       "      <td>Cristiano Ronaldo</td>\n",
       "      <td>https://www.instagram.com/cristiano/</td>\n",
       "      <td>198000000</td>\n",
       "      <td>2746</td>\n",
       "      <td>male</td>\n",
       "      <td>t</td>\n",
       "      <td>football player</td>\n",
       "    </tr>\n",
       "    <tr>\n",
       "      <th>2</th>\n",
       "      <td>3</td>\n",
       "      <td>arianagrande</td>\n",
       "      <td>Ariana Grande</td>\n",
       "      <td>https://www.instagram.com/arianagrande/</td>\n",
       "      <td>172000000</td>\n",
       "      <td>4480</td>\n",
       "      <td>female</td>\n",
       "      <td>t</td>\n",
       "      <td>singer</td>\n",
       "    </tr>\n",
       "    <tr>\n",
       "      <th>3</th>\n",
       "      <td>4</td>\n",
       "      <td>therock</td>\n",
       "      <td>Dwayne Johnson</td>\n",
       "      <td>https://www.instagram.com/therock/</td>\n",
       "      <td>169000000</td>\n",
       "      <td>4744</td>\n",
       "      <td>male</td>\n",
       "      <td>t</td>\n",
       "      <td>actor</td>\n",
       "    </tr>\n",
       "    <tr>\n",
       "      <th>4</th>\n",
       "      <td>5</td>\n",
       "      <td>selenagomez</td>\n",
       "      <td>Selena Gomez</td>\n",
       "      <td>https://www.instagram.com/selenagomez/</td>\n",
       "      <td>166000000</td>\n",
       "      <td>1576</td>\n",
       "      <td>female</td>\n",
       "      <td>t</td>\n",
       "      <td>singer</td>\n",
       "    </tr>\n",
       "  </tbody>\n",
       "</table>\n",
       "</div>"
      ],
      "text/plain": [
       "   id account_username          real_name  \\\n",
       "0   1        instagram          instagram   \n",
       "1   2        cristiano  Cristiano Ronaldo   \n",
       "2   3     arianagrande      Ariana Grande   \n",
       "3   4          therock     Dwayne Johnson   \n",
       "4   5      selenagomez       Selena Gomez   \n",
       "\n",
       "                           link_to_profile  number_of_followers  \\\n",
       "0     https://www.instagram.com/instagram/            329000000   \n",
       "1     https://www.instagram.com/cristiano/            198000000   \n",
       "2  https://www.instagram.com/arianagrande/            172000000   \n",
       "3       https://www.instagram.com/therock/            169000000   \n",
       "4   https://www.instagram.com/selenagomez/            166000000   \n",
       "\n",
       "   number_of_posts  gender real_person       profession  \n",
       "0             6198     NaN           f              NaN  \n",
       "1             2746    male           t  football player  \n",
       "2             4480  female           t           singer  \n",
       "3             4744    male           t            actor  \n",
       "4             1576  female           t           singer  "
      ]
     },
     "execution_count": 5,
     "metadata": {},
     "output_type": "execute_result"
    }
   ],
   "source": [
    "most_followed.head()"
   ]
  },
  {
   "cell_type": "code",
   "execution_count": 6,
   "metadata": {},
   "outputs": [
    {
     "data": {
      "text/html": [
       "<div>\n",
       "<style scoped>\n",
       "    .dataframe tbody tr th:only-of-type {\n",
       "        vertical-align: middle;\n",
       "    }\n",
       "\n",
       "    .dataframe tbody tr th {\n",
       "        vertical-align: top;\n",
       "    }\n",
       "\n",
       "    .dataframe thead th {\n",
       "        text-align: right;\n",
       "    }\n",
       "</style>\n",
       "<table border=\"1\" class=\"dataframe\">\n",
       "  <thead>\n",
       "    <tr style=\"text-align: right;\">\n",
       "      <th></th>\n",
       "      <th>id</th>\n",
       "      <th>account_username</th>\n",
       "      <th>real_name</th>\n",
       "      <th>link_to_profile</th>\n",
       "      <th>number_of_followers</th>\n",
       "      <th>number_of_posts</th>\n",
       "      <th>gender</th>\n",
       "      <th>real_person</th>\n",
       "      <th>profession</th>\n",
       "    </tr>\n",
       "  </thead>\n",
       "  <tbody>\n",
       "    <tr>\n",
       "      <th>45</th>\n",
       "      <td>46</td>\n",
       "      <td>maluma</td>\n",
       "      <td>Maluma</td>\n",
       "      <td>https://www.instagram.com/maluma/</td>\n",
       "      <td>48700000</td>\n",
       "      <td>7470</td>\n",
       "      <td>male</td>\n",
       "      <td>t</td>\n",
       "      <td>singer</td>\n",
       "    </tr>\n",
       "    <tr>\n",
       "      <th>46</th>\n",
       "      <td>47</td>\n",
       "      <td>priyankachopra</td>\n",
       "      <td>Priyanka Chopra Jonas</td>\n",
       "      <td>https://www.instagram.com/priyankachopra/</td>\n",
       "      <td>48600000</td>\n",
       "      <td>3036</td>\n",
       "      <td>female</td>\n",
       "      <td>t</td>\n",
       "      <td>actor</td>\n",
       "    </tr>\n",
       "    <tr>\n",
       "      <th>47</th>\n",
       "      <td>48</td>\n",
       "      <td>viratkohli</td>\n",
       "      <td>Virat Kohli</td>\n",
       "      <td>https://www.instagram.com/virat.kohli/</td>\n",
       "      <td>48100000</td>\n",
       "      <td>916</td>\n",
       "      <td>male</td>\n",
       "      <td>t</td>\n",
       "      <td>cricketer</td>\n",
       "    </tr>\n",
       "    <tr>\n",
       "      <th>48</th>\n",
       "      <td>49</td>\n",
       "      <td>camila_cabello</td>\n",
       "      <td>Camila Cabello</td>\n",
       "      <td>https://www.instagram.com/camila_cabello/</td>\n",
       "      <td>46600000</td>\n",
       "      <td>2309</td>\n",
       "      <td>female</td>\n",
       "      <td>t</td>\n",
       "      <td>singer</td>\n",
       "    </tr>\n",
       "    <tr>\n",
       "      <th>49</th>\n",
       "      <td>50</td>\n",
       "      <td>marvel</td>\n",
       "      <td>Marvel Cinematic Universe</td>\n",
       "      <td>https://www.instagram.com/marvel/</td>\n",
       "      <td>45000000</td>\n",
       "      <td>3978</td>\n",
       "      <td>NaN</td>\n",
       "      <td>f</td>\n",
       "      <td>company</td>\n",
       "    </tr>\n",
       "  </tbody>\n",
       "</table>\n",
       "</div>"
      ],
      "text/plain": [
       "    id account_username                  real_name  \\\n",
       "45  46           maluma                     Maluma   \n",
       "46  47   priyankachopra      Priyanka Chopra Jonas   \n",
       "47  48       viratkohli                Virat Kohli   \n",
       "48  49   camila_cabello             Camila Cabello   \n",
       "49  50           marvel  Marvel Cinematic Universe   \n",
       "\n",
       "                              link_to_profile  number_of_followers  \\\n",
       "45          https://www.instagram.com/maluma/             48700000   \n",
       "46  https://www.instagram.com/priyankachopra/             48600000   \n",
       "47     https://www.instagram.com/virat.kohli/             48100000   \n",
       "48  https://www.instagram.com/camila_cabello/             46600000   \n",
       "49          https://www.instagram.com/marvel/             45000000   \n",
       "\n",
       "    number_of_posts  gender real_person profession  \n",
       "45             7470    male           t     singer  \n",
       "46             3036  female           t      actor  \n",
       "47              916    male           t  cricketer  \n",
       "48             2309  female           t     singer  \n",
       "49             3978     NaN           f    company  "
      ]
     },
     "execution_count": 6,
     "metadata": {},
     "output_type": "execute_result"
    }
   ],
   "source": [
    "most_followed.tail()"
   ]
  },
  {
   "cell_type": "markdown",
   "metadata": {},
   "source": [
    "## How many profiles where taken into consideration?"
   ]
  },
  {
   "cell_type": "code",
   "execution_count": 12,
   "metadata": {},
   "outputs": [
    {
     "data": {
      "text/plain": [
       "50"
      ]
     },
     "execution_count": 12,
     "metadata": {},
     "output_type": "execute_result"
    }
   ],
   "source": [
    "most_followed['id'].count()"
   ]
  },
  {
   "cell_type": "markdown",
   "metadata": {},
   "source": [
    "## Which one has the most followers?"
   ]
  },
  {
   "cell_type": "code",
   "execution_count": 18,
   "metadata": {},
   "outputs": [],
   "source": [
    "most = most_followed.sort_values(by=['number_of_followers'], ascending=False)"
   ]
  },
  {
   "cell_type": "code",
   "execution_count": 19,
   "metadata": {},
   "outputs": [
    {
     "data": {
      "text/html": [
       "<div>\n",
       "<style scoped>\n",
       "    .dataframe tbody tr th:only-of-type {\n",
       "        vertical-align: middle;\n",
       "    }\n",
       "\n",
       "    .dataframe tbody tr th {\n",
       "        vertical-align: top;\n",
       "    }\n",
       "\n",
       "    .dataframe thead th {\n",
       "        text-align: right;\n",
       "    }\n",
       "</style>\n",
       "<table border=\"1\" class=\"dataframe\">\n",
       "  <thead>\n",
       "    <tr style=\"text-align: right;\">\n",
       "      <th></th>\n",
       "      <th>id</th>\n",
       "      <th>account_username</th>\n",
       "      <th>real_name</th>\n",
       "      <th>link_to_profile</th>\n",
       "      <th>number_of_followers</th>\n",
       "      <th>number_of_posts</th>\n",
       "      <th>gender</th>\n",
       "      <th>real_person</th>\n",
       "      <th>profession</th>\n",
       "    </tr>\n",
       "  </thead>\n",
       "  <tbody>\n",
       "    <tr>\n",
       "      <th>0</th>\n",
       "      <td>1</td>\n",
       "      <td>instagram</td>\n",
       "      <td>instagram</td>\n",
       "      <td>https://www.instagram.com/instagram/</td>\n",
       "      <td>329000000</td>\n",
       "      <td>6198</td>\n",
       "      <td>NaN</td>\n",
       "      <td>f</td>\n",
       "      <td>NaN</td>\n",
       "    </tr>\n",
       "    <tr>\n",
       "      <th>1</th>\n",
       "      <td>2</td>\n",
       "      <td>cristiano</td>\n",
       "      <td>Cristiano Ronaldo</td>\n",
       "      <td>https://www.instagram.com/cristiano/</td>\n",
       "      <td>198000000</td>\n",
       "      <td>2746</td>\n",
       "      <td>male</td>\n",
       "      <td>t</td>\n",
       "      <td>football player</td>\n",
       "    </tr>\n",
       "    <tr>\n",
       "      <th>2</th>\n",
       "      <td>3</td>\n",
       "      <td>arianagrande</td>\n",
       "      <td>Ariana Grande</td>\n",
       "      <td>https://www.instagram.com/arianagrande/</td>\n",
       "      <td>172000000</td>\n",
       "      <td>4480</td>\n",
       "      <td>female</td>\n",
       "      <td>t</td>\n",
       "      <td>singer</td>\n",
       "    </tr>\n",
       "    <tr>\n",
       "      <th>3</th>\n",
       "      <td>4</td>\n",
       "      <td>therock</td>\n",
       "      <td>Dwayne Johnson</td>\n",
       "      <td>https://www.instagram.com/therock/</td>\n",
       "      <td>169000000</td>\n",
       "      <td>4744</td>\n",
       "      <td>male</td>\n",
       "      <td>t</td>\n",
       "      <td>actor</td>\n",
       "    </tr>\n",
       "    <tr>\n",
       "      <th>4</th>\n",
       "      <td>5</td>\n",
       "      <td>selenagomez</td>\n",
       "      <td>Selena Gomez</td>\n",
       "      <td>https://www.instagram.com/selenagomez/</td>\n",
       "      <td>166000000</td>\n",
       "      <td>1576</td>\n",
       "      <td>female</td>\n",
       "      <td>t</td>\n",
       "      <td>singer</td>\n",
       "    </tr>\n",
       "  </tbody>\n",
       "</table>\n",
       "</div>"
      ],
      "text/plain": [
       "   id account_username          real_name  \\\n",
       "0   1        instagram          instagram   \n",
       "1   2        cristiano  Cristiano Ronaldo   \n",
       "2   3     arianagrande      Ariana Grande   \n",
       "3   4          therock     Dwayne Johnson   \n",
       "4   5      selenagomez       Selena Gomez   \n",
       "\n",
       "                           link_to_profile  number_of_followers  \\\n",
       "0     https://www.instagram.com/instagram/            329000000   \n",
       "1     https://www.instagram.com/cristiano/            198000000   \n",
       "2  https://www.instagram.com/arianagrande/            172000000   \n",
       "3       https://www.instagram.com/therock/            169000000   \n",
       "4   https://www.instagram.com/selenagomez/            166000000   \n",
       "\n",
       "   number_of_posts  gender real_person       profession  \n",
       "0             6198     NaN           f              NaN  \n",
       "1             2746    male           t  football player  \n",
       "2             4480  female           t           singer  \n",
       "3             4744    male           t            actor  \n",
       "4             1576  female           t           singer  "
      ]
     },
     "execution_count": 19,
     "metadata": {},
     "output_type": "execute_result"
    }
   ],
   "source": [
    "most.head()"
   ]
  },
  {
   "cell_type": "code",
   "execution_count": 20,
   "metadata": {},
   "outputs": [],
   "source": [
    "# for readable numbers"
   ]
  },
  {
   "cell_type": "code",
   "execution_count": 21,
   "metadata": {},
   "outputs": [],
   "source": [
    "most_followed['followers_in_millions'] = most_followed['number_of_followers'] / 1000000"
   ]
  },
  {
   "cell_type": "code",
   "execution_count": 22,
   "metadata": {},
   "outputs": [
    {
     "data": {
      "text/html": [
       "<div>\n",
       "<style scoped>\n",
       "    .dataframe tbody tr th:only-of-type {\n",
       "        vertical-align: middle;\n",
       "    }\n",
       "\n",
       "    .dataframe tbody tr th {\n",
       "        vertical-align: top;\n",
       "    }\n",
       "\n",
       "    .dataframe thead th {\n",
       "        text-align: right;\n",
       "    }\n",
       "</style>\n",
       "<table border=\"1\" class=\"dataframe\">\n",
       "  <thead>\n",
       "    <tr style=\"text-align: right;\">\n",
       "      <th></th>\n",
       "      <th>id</th>\n",
       "      <th>account_username</th>\n",
       "      <th>real_name</th>\n",
       "      <th>link_to_profile</th>\n",
       "      <th>number_of_followers</th>\n",
       "      <th>number_of_posts</th>\n",
       "      <th>gender</th>\n",
       "      <th>real_person</th>\n",
       "      <th>profession</th>\n",
       "      <th>followers_in_millions</th>\n",
       "    </tr>\n",
       "  </thead>\n",
       "  <tbody>\n",
       "    <tr>\n",
       "      <th>0</th>\n",
       "      <td>1</td>\n",
       "      <td>instagram</td>\n",
       "      <td>instagram</td>\n",
       "      <td>https://www.instagram.com/instagram/</td>\n",
       "      <td>329000000</td>\n",
       "      <td>6198</td>\n",
       "      <td>NaN</td>\n",
       "      <td>f</td>\n",
       "      <td>NaN</td>\n",
       "      <td>329.0</td>\n",
       "    </tr>\n",
       "    <tr>\n",
       "      <th>1</th>\n",
       "      <td>2</td>\n",
       "      <td>cristiano</td>\n",
       "      <td>Cristiano Ronaldo</td>\n",
       "      <td>https://www.instagram.com/cristiano/</td>\n",
       "      <td>198000000</td>\n",
       "      <td>2746</td>\n",
       "      <td>male</td>\n",
       "      <td>t</td>\n",
       "      <td>football player</td>\n",
       "      <td>198.0</td>\n",
       "    </tr>\n",
       "    <tr>\n",
       "      <th>2</th>\n",
       "      <td>3</td>\n",
       "      <td>arianagrande</td>\n",
       "      <td>Ariana Grande</td>\n",
       "      <td>https://www.instagram.com/arianagrande/</td>\n",
       "      <td>172000000</td>\n",
       "      <td>4480</td>\n",
       "      <td>female</td>\n",
       "      <td>t</td>\n",
       "      <td>singer</td>\n",
       "      <td>172.0</td>\n",
       "    </tr>\n",
       "    <tr>\n",
       "      <th>3</th>\n",
       "      <td>4</td>\n",
       "      <td>therock</td>\n",
       "      <td>Dwayne Johnson</td>\n",
       "      <td>https://www.instagram.com/therock/</td>\n",
       "      <td>169000000</td>\n",
       "      <td>4744</td>\n",
       "      <td>male</td>\n",
       "      <td>t</td>\n",
       "      <td>actor</td>\n",
       "      <td>169.0</td>\n",
       "    </tr>\n",
       "    <tr>\n",
       "      <th>4</th>\n",
       "      <td>5</td>\n",
       "      <td>selenagomez</td>\n",
       "      <td>Selena Gomez</td>\n",
       "      <td>https://www.instagram.com/selenagomez/</td>\n",
       "      <td>166000000</td>\n",
       "      <td>1576</td>\n",
       "      <td>female</td>\n",
       "      <td>t</td>\n",
       "      <td>singer</td>\n",
       "      <td>166.0</td>\n",
       "    </tr>\n",
       "  </tbody>\n",
       "</table>\n",
       "</div>"
      ],
      "text/plain": [
       "   id account_username          real_name  \\\n",
       "0   1        instagram          instagram   \n",
       "1   2        cristiano  Cristiano Ronaldo   \n",
       "2   3     arianagrande      Ariana Grande   \n",
       "3   4          therock     Dwayne Johnson   \n",
       "4   5      selenagomez       Selena Gomez   \n",
       "\n",
       "                           link_to_profile  number_of_followers  \\\n",
       "0     https://www.instagram.com/instagram/            329000000   \n",
       "1     https://www.instagram.com/cristiano/            198000000   \n",
       "2  https://www.instagram.com/arianagrande/            172000000   \n",
       "3       https://www.instagram.com/therock/            169000000   \n",
       "4   https://www.instagram.com/selenagomez/            166000000   \n",
       "\n",
       "   number_of_posts  gender real_person       profession  followers_in_millions  \n",
       "0             6198     NaN           f              NaN                  329.0  \n",
       "1             2746    male           t  football player                  198.0  \n",
       "2             4480  female           t           singer                  172.0  \n",
       "3             4744    male           t            actor                  169.0  \n",
       "4             1576  female           t           singer                  166.0  "
      ]
     },
     "execution_count": 22,
     "metadata": {},
     "output_type": "execute_result"
    }
   ],
   "source": [
    "most_followed.head()"
   ]
  },
  {
   "cell_type": "code",
   "execution_count": 23,
   "metadata": {},
   "outputs": [],
   "source": [
    "most_readable = most_followed.sort_values(by=['followers_in_millions'], ascending=False)"
   ]
  },
  {
   "cell_type": "code",
   "execution_count": 24,
   "metadata": {},
   "outputs": [
    {
     "data": {
      "text/html": [
       "<div>\n",
       "<style scoped>\n",
       "    .dataframe tbody tr th:only-of-type {\n",
       "        vertical-align: middle;\n",
       "    }\n",
       "\n",
       "    .dataframe tbody tr th {\n",
       "        vertical-align: top;\n",
       "    }\n",
       "\n",
       "    .dataframe thead th {\n",
       "        text-align: right;\n",
       "    }\n",
       "</style>\n",
       "<table border=\"1\" class=\"dataframe\">\n",
       "  <thead>\n",
       "    <tr style=\"text-align: right;\">\n",
       "      <th></th>\n",
       "      <th>id</th>\n",
       "      <th>account_username</th>\n",
       "      <th>real_name</th>\n",
       "      <th>link_to_profile</th>\n",
       "      <th>number_of_followers</th>\n",
       "      <th>number_of_posts</th>\n",
       "      <th>gender</th>\n",
       "      <th>real_person</th>\n",
       "      <th>profession</th>\n",
       "      <th>followers_in_millions</th>\n",
       "    </tr>\n",
       "  </thead>\n",
       "  <tbody>\n",
       "    <tr>\n",
       "      <th>0</th>\n",
       "      <td>1</td>\n",
       "      <td>instagram</td>\n",
       "      <td>instagram</td>\n",
       "      <td>https://www.instagram.com/instagram/</td>\n",
       "      <td>329000000</td>\n",
       "      <td>6198</td>\n",
       "      <td>NaN</td>\n",
       "      <td>f</td>\n",
       "      <td>NaN</td>\n",
       "      <td>329.0</td>\n",
       "    </tr>\n",
       "    <tr>\n",
       "      <th>1</th>\n",
       "      <td>2</td>\n",
       "      <td>cristiano</td>\n",
       "      <td>Cristiano Ronaldo</td>\n",
       "      <td>https://www.instagram.com/cristiano/</td>\n",
       "      <td>198000000</td>\n",
       "      <td>2746</td>\n",
       "      <td>male</td>\n",
       "      <td>t</td>\n",
       "      <td>football player</td>\n",
       "      <td>198.0</td>\n",
       "    </tr>\n",
       "    <tr>\n",
       "      <th>2</th>\n",
       "      <td>3</td>\n",
       "      <td>arianagrande</td>\n",
       "      <td>Ariana Grande</td>\n",
       "      <td>https://www.instagram.com/arianagrande/</td>\n",
       "      <td>172000000</td>\n",
       "      <td>4480</td>\n",
       "      <td>female</td>\n",
       "      <td>t</td>\n",
       "      <td>singer</td>\n",
       "      <td>172.0</td>\n",
       "    </tr>\n",
       "    <tr>\n",
       "      <th>3</th>\n",
       "      <td>4</td>\n",
       "      <td>therock</td>\n",
       "      <td>Dwayne Johnson</td>\n",
       "      <td>https://www.instagram.com/therock/</td>\n",
       "      <td>169000000</td>\n",
       "      <td>4744</td>\n",
       "      <td>male</td>\n",
       "      <td>t</td>\n",
       "      <td>actor</td>\n",
       "      <td>169.0</td>\n",
       "    </tr>\n",
       "    <tr>\n",
       "      <th>4</th>\n",
       "      <td>5</td>\n",
       "      <td>selenagomez</td>\n",
       "      <td>Selena Gomez</td>\n",
       "      <td>https://www.instagram.com/selenagomez/</td>\n",
       "      <td>166000000</td>\n",
       "      <td>1576</td>\n",
       "      <td>female</td>\n",
       "      <td>t</td>\n",
       "      <td>singer</td>\n",
       "      <td>166.0</td>\n",
       "    </tr>\n",
       "  </tbody>\n",
       "</table>\n",
       "</div>"
      ],
      "text/plain": [
       "   id account_username          real_name  \\\n",
       "0   1        instagram          instagram   \n",
       "1   2        cristiano  Cristiano Ronaldo   \n",
       "2   3     arianagrande      Ariana Grande   \n",
       "3   4          therock     Dwayne Johnson   \n",
       "4   5      selenagomez       Selena Gomez   \n",
       "\n",
       "                           link_to_profile  number_of_followers  \\\n",
       "0     https://www.instagram.com/instagram/            329000000   \n",
       "1     https://www.instagram.com/cristiano/            198000000   \n",
       "2  https://www.instagram.com/arianagrande/            172000000   \n",
       "3       https://www.instagram.com/therock/            169000000   \n",
       "4   https://www.instagram.com/selenagomez/            166000000   \n",
       "\n",
       "   number_of_posts  gender real_person       profession  followers_in_millions  \n",
       "0             6198     NaN           f              NaN                  329.0  \n",
       "1             2746    male           t  football player                  198.0  \n",
       "2             4480  female           t           singer                  172.0  \n",
       "3             4744    male           t            actor                  169.0  \n",
       "4             1576  female           t           singer                  166.0  "
      ]
     },
     "execution_count": 24,
     "metadata": {},
     "output_type": "execute_result"
    }
   ],
   "source": [
    "most_readable.head()"
   ]
  },
  {
   "cell_type": "code",
   "execution_count": 25,
   "metadata": {},
   "outputs": [
    {
     "data": {
      "text/html": [
       "<div>\n",
       "<style scoped>\n",
       "    .dataframe tbody tr th:only-of-type {\n",
       "        vertical-align: middle;\n",
       "    }\n",
       "\n",
       "    .dataframe tbody tr th {\n",
       "        vertical-align: top;\n",
       "    }\n",
       "\n",
       "    .dataframe thead th {\n",
       "        text-align: right;\n",
       "    }\n",
       "</style>\n",
       "<table border=\"1\" class=\"dataframe\">\n",
       "  <thead>\n",
       "    <tr style=\"text-align: right;\">\n",
       "      <th></th>\n",
       "      <th>id</th>\n",
       "      <th>account_username</th>\n",
       "      <th>real_name</th>\n",
       "      <th>link_to_profile</th>\n",
       "      <th>number_of_followers</th>\n",
       "      <th>number_of_posts</th>\n",
       "      <th>gender</th>\n",
       "      <th>real_person</th>\n",
       "      <th>profession</th>\n",
       "      <th>followers_in_millions</th>\n",
       "    </tr>\n",
       "  </thead>\n",
       "  <tbody>\n",
       "    <tr>\n",
       "      <th>45</th>\n",
       "      <td>46</td>\n",
       "      <td>maluma</td>\n",
       "      <td>Maluma</td>\n",
       "      <td>https://www.instagram.com/maluma/</td>\n",
       "      <td>48700000</td>\n",
       "      <td>7470</td>\n",
       "      <td>male</td>\n",
       "      <td>t</td>\n",
       "      <td>singer</td>\n",
       "      <td>48.7</td>\n",
       "    </tr>\n",
       "    <tr>\n",
       "      <th>46</th>\n",
       "      <td>47</td>\n",
       "      <td>priyankachopra</td>\n",
       "      <td>Priyanka Chopra Jonas</td>\n",
       "      <td>https://www.instagram.com/priyankachopra/</td>\n",
       "      <td>48600000</td>\n",
       "      <td>3036</td>\n",
       "      <td>female</td>\n",
       "      <td>t</td>\n",
       "      <td>actor</td>\n",
       "      <td>48.6</td>\n",
       "    </tr>\n",
       "    <tr>\n",
       "      <th>47</th>\n",
       "      <td>48</td>\n",
       "      <td>viratkohli</td>\n",
       "      <td>Virat Kohli</td>\n",
       "      <td>https://www.instagram.com/virat.kohli/</td>\n",
       "      <td>48100000</td>\n",
       "      <td>916</td>\n",
       "      <td>male</td>\n",
       "      <td>t</td>\n",
       "      <td>cricketer</td>\n",
       "      <td>48.1</td>\n",
       "    </tr>\n",
       "    <tr>\n",
       "      <th>48</th>\n",
       "      <td>49</td>\n",
       "      <td>camila_cabello</td>\n",
       "      <td>Camila Cabello</td>\n",
       "      <td>https://www.instagram.com/camila_cabello/</td>\n",
       "      <td>46600000</td>\n",
       "      <td>2309</td>\n",
       "      <td>female</td>\n",
       "      <td>t</td>\n",
       "      <td>singer</td>\n",
       "      <td>46.6</td>\n",
       "    </tr>\n",
       "    <tr>\n",
       "      <th>49</th>\n",
       "      <td>50</td>\n",
       "      <td>marvel</td>\n",
       "      <td>Marvel Cinematic Universe</td>\n",
       "      <td>https://www.instagram.com/marvel/</td>\n",
       "      <td>45000000</td>\n",
       "      <td>3978</td>\n",
       "      <td>NaN</td>\n",
       "      <td>f</td>\n",
       "      <td>company</td>\n",
       "      <td>45.0</td>\n",
       "    </tr>\n",
       "  </tbody>\n",
       "</table>\n",
       "</div>"
      ],
      "text/plain": [
       "    id account_username                  real_name  \\\n",
       "45  46           maluma                     Maluma   \n",
       "46  47   priyankachopra      Priyanka Chopra Jonas   \n",
       "47  48       viratkohli                Virat Kohli   \n",
       "48  49   camila_cabello             Camila Cabello   \n",
       "49  50           marvel  Marvel Cinematic Universe   \n",
       "\n",
       "                              link_to_profile  number_of_followers  \\\n",
       "45          https://www.instagram.com/maluma/             48700000   \n",
       "46  https://www.instagram.com/priyankachopra/             48600000   \n",
       "47     https://www.instagram.com/virat.kohli/             48100000   \n",
       "48  https://www.instagram.com/camila_cabello/             46600000   \n",
       "49          https://www.instagram.com/marvel/             45000000   \n",
       "\n",
       "    number_of_posts  gender real_person profession  followers_in_millions  \n",
       "45             7470    male           t     singer                   48.7  \n",
       "46             3036  female           t      actor                   48.6  \n",
       "47              916    male           t  cricketer                   48.1  \n",
       "48             2309  female           t     singer                   46.6  \n",
       "49             3978     NaN           f    company                   45.0  "
      ]
     },
     "execution_count": 25,
     "metadata": {},
     "output_type": "execute_result"
    }
   ],
   "source": [
    "most_readable.tail()"
   ]
  },
  {
   "cell_type": "markdown",
   "metadata": {},
   "source": [
    "## Sum of all followers together"
   ]
  },
  {
   "cell_type": "code",
   "execution_count": 28,
   "metadata": {},
   "outputs": [
    {
     "data": {
      "text/plain": [
       "4715700000"
      ]
     },
     "execution_count": 28,
     "metadata": {},
     "output_type": "execute_result"
    }
   ],
   "source": [
    "most_followed['number_of_followers'].sum()"
   ]
  },
  {
   "cell_type": "code",
   "execution_count": 29,
   "metadata": {},
   "outputs": [
    {
     "data": {
      "text/plain": [
       "4715.7"
      ]
     },
     "execution_count": 29,
     "metadata": {},
     "output_type": "execute_result"
    }
   ],
   "source": [
    "most_readable['followers_in_millions'].sum()"
   ]
  },
  {
   "cell_type": "code",
   "execution_count": 30,
   "metadata": {},
   "outputs": [],
   "source": [
    "# in billions:"
   ]
  },
  {
   "cell_type": "code",
   "execution_count": 60,
   "metadata": {},
   "outputs": [
    {
     "data": {
      "text/plain": [
       "4.7157"
      ]
     },
     "execution_count": 60,
     "metadata": {},
     "output_type": "execute_result"
    }
   ],
   "source": [
    "most_readable['followers_in_millions'].sum() / 1000"
   ]
  },
  {
   "cell_type": "markdown",
   "metadata": {},
   "source": [
    "## Which gender has most followers?"
   ]
  },
  {
   "cell_type": "code",
   "execution_count": 33,
   "metadata": {},
   "outputs": [
    {
     "data": {
      "text/html": [
       "<div>\n",
       "<style scoped>\n",
       "    .dataframe tbody tr th:only-of-type {\n",
       "        vertical-align: middle;\n",
       "    }\n",
       "\n",
       "    .dataframe tbody tr th {\n",
       "        vertical-align: top;\n",
       "    }\n",
       "\n",
       "    .dataframe thead th {\n",
       "        text-align: right;\n",
       "    }\n",
       "</style>\n",
       "<table border=\"1\" class=\"dataframe\">\n",
       "  <thead>\n",
       "    <tr style=\"text-align: right;\">\n",
       "      <th></th>\n",
       "      <th>id</th>\n",
       "      <th>account_username</th>\n",
       "      <th>real_name</th>\n",
       "      <th>link_to_profile</th>\n",
       "      <th>number_of_followers</th>\n",
       "      <th>number_of_posts</th>\n",
       "      <th>real_person</th>\n",
       "      <th>profession</th>\n",
       "      <th>followers_in_millions</th>\n",
       "    </tr>\n",
       "    <tr>\n",
       "      <th>gender</th>\n",
       "      <th></th>\n",
       "      <th></th>\n",
       "      <th></th>\n",
       "      <th></th>\n",
       "      <th></th>\n",
       "      <th></th>\n",
       "      <th></th>\n",
       "      <th></th>\n",
       "      <th></th>\n",
       "    </tr>\n",
       "  </thead>\n",
       "  <tbody>\n",
       "    <tr>\n",
       "      <th>female</th>\n",
       "      <td>24</td>\n",
       "      <td>24</td>\n",
       "      <td>24</td>\n",
       "      <td>24</td>\n",
       "      <td>24</td>\n",
       "      <td>24</td>\n",
       "      <td>24</td>\n",
       "      <td>24</td>\n",
       "      <td>24</td>\n",
       "    </tr>\n",
       "    <tr>\n",
       "      <th>male</th>\n",
       "      <td>16</td>\n",
       "      <td>16</td>\n",
       "      <td>16</td>\n",
       "      <td>16</td>\n",
       "      <td>16</td>\n",
       "      <td>16</td>\n",
       "      <td>16</td>\n",
       "      <td>16</td>\n",
       "      <td>16</td>\n",
       "    </tr>\n",
       "  </tbody>\n",
       "</table>\n",
       "</div>"
      ],
      "text/plain": [
       "        id  account_username  real_name  link_to_profile  number_of_followers  \\\n",
       "gender                                                                          \n",
       "female  24                24         24               24                   24   \n",
       "male    16                16         16               16                   16   \n",
       "\n",
       "        number_of_posts  real_person  profession  followers_in_millions  \n",
       "gender                                                                   \n",
       "female               24           24          24                     24  \n",
       "male                 16           16          16                     16  "
      ]
     },
     "execution_count": 33,
     "metadata": {},
     "output_type": "execute_result"
    }
   ],
   "source": [
    "most_followed.groupby('gender').count()"
   ]
  },
  {
   "cell_type": "code",
   "execution_count": 36,
   "metadata": {},
   "outputs": [
    {
     "data": {
      "text/html": [
       "<div>\n",
       "<style scoped>\n",
       "    .dataframe tbody tr th:only-of-type {\n",
       "        vertical-align: middle;\n",
       "    }\n",
       "\n",
       "    .dataframe tbody tr th {\n",
       "        vertical-align: top;\n",
       "    }\n",
       "\n",
       "    .dataframe thead th {\n",
       "        text-align: right;\n",
       "    }\n",
       "</style>\n",
       "<table border=\"1\" class=\"dataframe\">\n",
       "  <thead>\n",
       "    <tr style=\"text-align: right;\">\n",
       "      <th></th>\n",
       "      <th>id</th>\n",
       "      <th>number_of_followers</th>\n",
       "      <th>number_of_posts</th>\n",
       "      <th>followers_in_millions</th>\n",
       "    </tr>\n",
       "    <tr>\n",
       "      <th>gender</th>\n",
       "      <th></th>\n",
       "      <th></th>\n",
       "      <th></th>\n",
       "      <th></th>\n",
       "    </tr>\n",
       "  </thead>\n",
       "  <tbody>\n",
       "    <tr>\n",
       "      <th>female</th>\n",
       "      <td>553</td>\n",
       "      <td>2325500000</td>\n",
       "      <td>83631</td>\n",
       "      <td>2325.5</td>\n",
       "    </tr>\n",
       "    <tr>\n",
       "      <th>male</th>\n",
       "      <td>437</td>\n",
       "      <td>1410600000</td>\n",
       "      <td>51733</td>\n",
       "      <td>1410.6</td>\n",
       "    </tr>\n",
       "  </tbody>\n",
       "</table>\n",
       "</div>"
      ],
      "text/plain": [
       "         id  number_of_followers  number_of_posts  followers_in_millions\n",
       "gender                                                                  \n",
       "female  553           2325500000            83631                 2325.5\n",
       "male    437           1410600000            51733                 1410.6"
      ]
     },
     "execution_count": 36,
     "metadata": {},
     "output_type": "execute_result"
    }
   ],
   "source": [
    "most_followed.groupby('gender').sum()"
   ]
  },
  {
   "cell_type": "markdown",
   "metadata": {},
   "source": [
    "## Which profession has the most followers?"
   ]
  },
  {
   "cell_type": "code",
   "execution_count": 58,
   "metadata": {},
   "outputs": [
    {
     "data": {
      "text/html": [
       "<div>\n",
       "<style scoped>\n",
       "    .dataframe tbody tr th:only-of-type {\n",
       "        vertical-align: middle;\n",
       "    }\n",
       "\n",
       "    .dataframe tbody tr th {\n",
       "        vertical-align: top;\n",
       "    }\n",
       "\n",
       "    .dataframe thead th {\n",
       "        text-align: right;\n",
       "    }\n",
       "</style>\n",
       "<table border=\"1\" class=\"dataframe\">\n",
       "  <thead>\n",
       "    <tr style=\"text-align: right;\">\n",
       "      <th></th>\n",
       "      <th>id</th>\n",
       "      <th>number_of_followers</th>\n",
       "      <th>number_of_posts</th>\n",
       "      <th>followers_in_millions</th>\n",
       "    </tr>\n",
       "    <tr>\n",
       "      <th>profession</th>\n",
       "      <th></th>\n",
       "      <th></th>\n",
       "      <th></th>\n",
       "      <th></th>\n",
       "    </tr>\n",
       "  </thead>\n",
       "  <tbody>\n",
       "    <tr>\n",
       "      <th>singer</th>\n",
       "      <td>445</td>\n",
       "      <td>1660800000</td>\n",
       "      <td>45102</td>\n",
       "      <td>1660.8</td>\n",
       "    </tr>\n",
       "    <tr>\n",
       "      <th>football player</th>\n",
       "      <td>96</td>\n",
       "      <td>582200000</td>\n",
       "      <td>11474</td>\n",
       "      <td>582.2</td>\n",
       "    </tr>\n",
       "    <tr>\n",
       "      <th>media personality</th>\n",
       "      <td>51</td>\n",
       "      <td>504000000</td>\n",
       "      <td>14100</td>\n",
       "      <td>504.0</td>\n",
       "    </tr>\n",
       "    <tr>\n",
       "      <th>actor</th>\n",
       "      <td>146</td>\n",
       "      <td>418200000</td>\n",
       "      <td>13355</td>\n",
       "      <td>418.2</td>\n",
       "    </tr>\n",
       "    <tr>\n",
       "      <th>rapper</th>\n",
       "      <td>80</td>\n",
       "      <td>230200000</td>\n",
       "      <td>11952</td>\n",
       "      <td>230.2</td>\n",
       "    </tr>\n",
       "    <tr>\n",
       "      <th>football team</th>\n",
       "      <td>87</td>\n",
       "      <td>219500000</td>\n",
       "      <td>26102</td>\n",
       "      <td>219.5</td>\n",
       "    </tr>\n",
       "    <tr>\n",
       "      <th>model</th>\n",
       "      <td>57</td>\n",
       "      <td>172300000</td>\n",
       "      <td>33102</td>\n",
       "      <td>172.3</td>\n",
       "    </tr>\n",
       "    <tr>\n",
       "      <th>company</th>\n",
       "      <td>78</td>\n",
       "      <td>113900000</td>\n",
       "      <td>4534</td>\n",
       "      <td>113.9</td>\n",
       "    </tr>\n",
       "    <tr>\n",
       "      <th>TV show</th>\n",
       "      <td>25</td>\n",
       "      <td>82400000</td>\n",
       "      <td>8406</td>\n",
       "      <td>82.4</td>\n",
       "    </tr>\n",
       "    <tr>\n",
       "      <th>actress</th>\n",
       "      <td>29</td>\n",
       "      <td>65000000</td>\n",
       "      <td>3422</td>\n",
       "      <td>65.0</td>\n",
       "    </tr>\n",
       "    <tr>\n",
       "      <th>basketball player</th>\n",
       "      <td>38</td>\n",
       "      <td>55300000</td>\n",
       "      <td>1941</td>\n",
       "      <td>55.3</td>\n",
       "    </tr>\n",
       "    <tr>\n",
       "      <th>federal agency</th>\n",
       "      <td>41</td>\n",
       "      <td>53300000</td>\n",
       "      <td>2816</td>\n",
       "      <td>53.3</td>\n",
       "    </tr>\n",
       "    <tr>\n",
       "      <th>online platform</th>\n",
       "      <td>42</td>\n",
       "      <td>51500000</td>\n",
       "      <td>22060</td>\n",
       "      <td>51.5</td>\n",
       "    </tr>\n",
       "    <tr>\n",
       "      <th>cricketer</th>\n",
       "      <td>48</td>\n",
       "      <td>48100000</td>\n",
       "      <td>916</td>\n",
       "      <td>48.1</td>\n",
       "    </tr>\n",
       "  </tbody>\n",
       "</table>\n",
       "</div>"
      ],
      "text/plain": [
       "                    id  number_of_followers  number_of_posts  \\\n",
       "profession                                                     \n",
       "singer             445           1660800000            45102   \n",
       "football player     96            582200000            11474   \n",
       "media personality   51            504000000            14100   \n",
       "actor              146            418200000            13355   \n",
       "rapper              80            230200000            11952   \n",
       "football team       87            219500000            26102   \n",
       "model               57            172300000            33102   \n",
       "company             78            113900000             4534   \n",
       "TV show             25             82400000             8406   \n",
       "actress             29             65000000             3422   \n",
       "basketball player   38             55300000             1941   \n",
       "federal agency      41             53300000             2816   \n",
       "online platform     42             51500000            22060   \n",
       "cricketer           48             48100000              916   \n",
       "\n",
       "                   followers_in_millions  \n",
       "profession                                \n",
       "singer                            1660.8  \n",
       "football player                    582.2  \n",
       "media personality                  504.0  \n",
       "actor                              418.2  \n",
       "rapper                             230.2  \n",
       "football team                      219.5  \n",
       "model                              172.3  \n",
       "company                            113.9  \n",
       "TV show                             82.4  \n",
       "actress                             65.0  \n",
       "basketball player                   55.3  \n",
       "federal agency                      53.3  \n",
       "online platform                     51.5  \n",
       "cricketer                           48.1  "
      ]
     },
     "execution_count": 58,
     "metadata": {},
     "output_type": "execute_result"
    }
   ],
   "source": [
    "most_followed.groupby('profession').sum().sort_values('number_of_followers', ascending=False)"
   ]
  },
  {
   "cell_type": "markdown",
   "metadata": {},
   "source": [
    "# Part II - Analysis of posts from the most followed"
   ]
  },
  {
   "cell_type": "code",
   "execution_count": 96,
   "metadata": {},
   "outputs": [],
   "source": [
    "post_details = pd.read_csv('post_details.csv', delimiter=';')"
   ]
  },
  {
   "cell_type": "code",
   "execution_count": 97,
   "metadata": {},
   "outputs": [
    {
     "data": {
      "text/html": [
       "<div>\n",
       "<style scoped>\n",
       "    .dataframe tbody tr th:only-of-type {\n",
       "        vertical-align: middle;\n",
       "    }\n",
       "\n",
       "    .dataframe tbody tr th {\n",
       "        vertical-align: top;\n",
       "    }\n",
       "\n",
       "    .dataframe thead th {\n",
       "        text-align: right;\n",
       "    }\n",
       "</style>\n",
       "<table border=\"1\" class=\"dataframe\">\n",
       "  <thead>\n",
       "    <tr style=\"text-align: right;\">\n",
       "      <th></th>\n",
       "      <th>id</th>\n",
       "      <th>url</th>\n",
       "      <th>post_type</th>\n",
       "      <th>likes</th>\n",
       "      <th>time_posted</th>\n",
       "      <th>caption</th>\n",
       "      <th>user_name</th>\n",
       "    </tr>\n",
       "  </thead>\n",
       "  <tbody>\n",
       "    <tr>\n",
       "      <th>0</th>\n",
       "      <td>4</td>\n",
       "      <td>https://www.instagram.com/p/B7q5Qxyg8FZ/</td>\n",
       "      <td>video</td>\n",
       "      <td>2.552.871</td>\n",
       "      <td>2020-01-23 18:18:03+01</td>\n",
       "      <td>Karen Ip (@fruitypoppin) knows how it feels to...</td>\n",
       "      <td>instagram</td>\n",
       "    </tr>\n",
       "    <tr>\n",
       "      <th>1</th>\n",
       "      <td>5</td>\n",
       "      <td>https://www.instagram.com/p/B7ocUPsAq1_/</td>\n",
       "      <td>video</td>\n",
       "      <td>7.456.046</td>\n",
       "      <td>2020-01-22 19:26:12+01</td>\n",
       "      <td>Adrian Steckeweh (@omega.c) has a warped sense...</td>\n",
       "      <td>instagram</td>\n",
       "    </tr>\n",
       "    <tr>\n",
       "      <th>2</th>\n",
       "      <td>6</td>\n",
       "      <td>https://www.instagram.com/p/B7lwdBHAwIw/</td>\n",
       "      <td>photo</td>\n",
       "      <td>913.456</td>\n",
       "      <td>2020-01-21 18:23:47+01</td>\n",
       "      <td>As one of Japan’s top competition boulderers, ...</td>\n",
       "      <td>instagram</td>\n",
       "    </tr>\n",
       "    <tr>\n",
       "      <th>3</th>\n",
       "      <td>7</td>\n",
       "      <td>https://www.instagram.com/p/B7jMF3dg8RH/</td>\n",
       "      <td>photo</td>\n",
       "      <td>621.529</td>\n",
       "      <td>2020-01-20 18:27:35+01</td>\n",
       "      <td>Parker Kit Hill (@parkerkithill) refuses to be...</td>\n",
       "      <td>instagram</td>\n",
       "    </tr>\n",
       "    <tr>\n",
       "      <th>4</th>\n",
       "      <td>8</td>\n",
       "      <td>https://www.instagram.com/p/B7gtmEJA3Oc/</td>\n",
       "      <td>photo</td>\n",
       "      <td>1.563.593</td>\n",
       "      <td>2020-01-19 19:22:37+01</td>\n",
       "      <td>#HelloFrom Taimu Mountain in Fujian, China, wh...</td>\n",
       "      <td>instagram</td>\n",
       "    </tr>\n",
       "  </tbody>\n",
       "</table>\n",
       "</div>"
      ],
      "text/plain": [
       "   id                                       url post_type      likes  \\\n",
       "0   4  https://www.instagram.com/p/B7q5Qxyg8FZ/     video  2.552.871   \n",
       "1   5  https://www.instagram.com/p/B7ocUPsAq1_/     video  7.456.046   \n",
       "2   6  https://www.instagram.com/p/B7lwdBHAwIw/     photo    913.456   \n",
       "3   7  https://www.instagram.com/p/B7jMF3dg8RH/     photo    621.529   \n",
       "4   8  https://www.instagram.com/p/B7gtmEJA3Oc/     photo  1.563.593   \n",
       "\n",
       "              time_posted                                            caption  \\\n",
       "0  2020-01-23 18:18:03+01  Karen Ip (@fruitypoppin) knows how it feels to...   \n",
       "1  2020-01-22 19:26:12+01  Adrian Steckeweh (@omega.c) has a warped sense...   \n",
       "2  2020-01-21 18:23:47+01  As one of Japan’s top competition boulderers, ...   \n",
       "3  2020-01-20 18:27:35+01  Parker Kit Hill (@parkerkithill) refuses to be...   \n",
       "4  2020-01-19 19:22:37+01  #HelloFrom Taimu Mountain in Fujian, China, wh...   \n",
       "\n",
       "   user_name  \n",
       "0  instagram  \n",
       "1  instagram  \n",
       "2  instagram  \n",
       "3  instagram  \n",
       "4  instagram  "
      ]
     },
     "execution_count": 97,
     "metadata": {},
     "output_type": "execute_result"
    }
   ],
   "source": [
    "post_details.head()"
   ]
  },
  {
   "cell_type": "markdown",
   "metadata": {},
   "source": [
    "## Which type of post receives the most likes?"
   ]
  },
  {
   "cell_type": "code",
   "execution_count": 116,
   "metadata": {},
   "outputs": [
    {
     "name": "stdout",
     "output_type": "stream",
     "text": [
      "<class 'pandas.core.frame.DataFrame'>\n",
      "RangeIndex: 2504 entries, 0 to 2503\n",
      "Data columns (total 7 columns):\n",
      " #   Column       Non-Null Count  Dtype \n",
      "---  ------       --------------  ----- \n",
      " 0   id           2504 non-null   int64 \n",
      " 1   url          2504 non-null   object\n",
      " 2   post_type    2504 non-null   object\n",
      " 3   likes        2504 non-null   int64 \n",
      " 4   time_posted  2504 non-null   object\n",
      " 5   caption      2394 non-null   object\n",
      " 6   user_name    2504 non-null   object\n",
      "dtypes: int64(2), object(5)\n",
      "memory usage: 137.1+ KB\n"
     ]
    }
   ],
   "source": [
    "post_details.info()"
   ]
  },
  {
   "cell_type": "code",
   "execution_count": 98,
   "metadata": {},
   "outputs": [],
   "source": [
    "photo = post_details['post_type'] == 'photo'"
   ]
  },
  {
   "cell_type": "code",
   "execution_count": 99,
   "metadata": {},
   "outputs": [
    {
     "name": "stdout",
     "output_type": "stream",
     "text": [
      "<class 'pandas.core.frame.DataFrame'>\n",
      "RangeIndex: 2504 entries, 0 to 2503\n",
      "Data columns (total 7 columns):\n",
      " #   Column       Non-Null Count  Dtype \n",
      "---  ------       --------------  ----- \n",
      " 0   id           2504 non-null   int64 \n",
      " 1   url          2504 non-null   object\n",
      " 2   post_type    2504 non-null   object\n",
      " 3   likes        2504 non-null   object\n",
      " 4   time_posted  2504 non-null   object\n",
      " 5   caption      2394 non-null   object\n",
      " 6   user_name    2504 non-null   object\n",
      "dtypes: int64(1), object(6)\n",
      "memory usage: 137.1+ KB\n"
     ]
    }
   ],
   "source": [
    "post_details.info()"
   ]
  },
  {
   "cell_type": "code",
   "execution_count": 100,
   "metadata": {},
   "outputs": [],
   "source": [
    "post_details['likes'] = post_details.likes.astype(str)"
   ]
  },
  {
   "cell_type": "code",
   "execution_count": 101,
   "metadata": {},
   "outputs": [
    {
     "data": {
      "text/html": [
       "<div>\n",
       "<style scoped>\n",
       "    .dataframe tbody tr th:only-of-type {\n",
       "        vertical-align: middle;\n",
       "    }\n",
       "\n",
       "    .dataframe tbody tr th {\n",
       "        vertical-align: top;\n",
       "    }\n",
       "\n",
       "    .dataframe thead th {\n",
       "        text-align: right;\n",
       "    }\n",
       "</style>\n",
       "<table border=\"1\" class=\"dataframe\">\n",
       "  <thead>\n",
       "    <tr style=\"text-align: right;\">\n",
       "      <th></th>\n",
       "      <th>id</th>\n",
       "      <th>url</th>\n",
       "      <th>post_type</th>\n",
       "      <th>likes</th>\n",
       "      <th>time_posted</th>\n",
       "      <th>caption</th>\n",
       "      <th>user_name</th>\n",
       "    </tr>\n",
       "  </thead>\n",
       "  <tbody>\n",
       "    <tr>\n",
       "      <th>0</th>\n",
       "      <td>4</td>\n",
       "      <td>https://www.instagram.com/p/B7q5Qxyg8FZ/</td>\n",
       "      <td>video</td>\n",
       "      <td>2.552.871</td>\n",
       "      <td>2020-01-23 18:18:03+01</td>\n",
       "      <td>Karen Ip (@fruitypoppin) knows how it feels to...</td>\n",
       "      <td>instagram</td>\n",
       "    </tr>\n",
       "    <tr>\n",
       "      <th>1</th>\n",
       "      <td>5</td>\n",
       "      <td>https://www.instagram.com/p/B7ocUPsAq1_/</td>\n",
       "      <td>video</td>\n",
       "      <td>7.456.046</td>\n",
       "      <td>2020-01-22 19:26:12+01</td>\n",
       "      <td>Adrian Steckeweh (@omega.c) has a warped sense...</td>\n",
       "      <td>instagram</td>\n",
       "    </tr>\n",
       "    <tr>\n",
       "      <th>2</th>\n",
       "      <td>6</td>\n",
       "      <td>https://www.instagram.com/p/B7lwdBHAwIw/</td>\n",
       "      <td>photo</td>\n",
       "      <td>913.456</td>\n",
       "      <td>2020-01-21 18:23:47+01</td>\n",
       "      <td>As one of Japan’s top competition boulderers, ...</td>\n",
       "      <td>instagram</td>\n",
       "    </tr>\n",
       "    <tr>\n",
       "      <th>3</th>\n",
       "      <td>7</td>\n",
       "      <td>https://www.instagram.com/p/B7jMF3dg8RH/</td>\n",
       "      <td>photo</td>\n",
       "      <td>621.529</td>\n",
       "      <td>2020-01-20 18:27:35+01</td>\n",
       "      <td>Parker Kit Hill (@parkerkithill) refuses to be...</td>\n",
       "      <td>instagram</td>\n",
       "    </tr>\n",
       "    <tr>\n",
       "      <th>4</th>\n",
       "      <td>8</td>\n",
       "      <td>https://www.instagram.com/p/B7gtmEJA3Oc/</td>\n",
       "      <td>photo</td>\n",
       "      <td>1.563.593</td>\n",
       "      <td>2020-01-19 19:22:37+01</td>\n",
       "      <td>#HelloFrom Taimu Mountain in Fujian, China, wh...</td>\n",
       "      <td>instagram</td>\n",
       "    </tr>\n",
       "  </tbody>\n",
       "</table>\n",
       "</div>"
      ],
      "text/plain": [
       "   id                                       url post_type      likes  \\\n",
       "0   4  https://www.instagram.com/p/B7q5Qxyg8FZ/     video  2.552.871   \n",
       "1   5  https://www.instagram.com/p/B7ocUPsAq1_/     video  7.456.046   \n",
       "2   6  https://www.instagram.com/p/B7lwdBHAwIw/     photo    913.456   \n",
       "3   7  https://www.instagram.com/p/B7jMF3dg8RH/     photo    621.529   \n",
       "4   8  https://www.instagram.com/p/B7gtmEJA3Oc/     photo  1.563.593   \n",
       "\n",
       "              time_posted                                            caption  \\\n",
       "0  2020-01-23 18:18:03+01  Karen Ip (@fruitypoppin) knows how it feels to...   \n",
       "1  2020-01-22 19:26:12+01  Adrian Steckeweh (@omega.c) has a warped sense...   \n",
       "2  2020-01-21 18:23:47+01  As one of Japan’s top competition boulderers, ...   \n",
       "3  2020-01-20 18:27:35+01  Parker Kit Hill (@parkerkithill) refuses to be...   \n",
       "4  2020-01-19 19:22:37+01  #HelloFrom Taimu Mountain in Fujian, China, wh...   \n",
       "\n",
       "   user_name  \n",
       "0  instagram  \n",
       "1  instagram  \n",
       "2  instagram  \n",
       "3  instagram  \n",
       "4  instagram  "
      ]
     },
     "execution_count": 101,
     "metadata": {},
     "output_type": "execute_result"
    }
   ],
   "source": [
    "post_details.head()"
   ]
  },
  {
   "cell_type": "code",
   "execution_count": 107,
   "metadata": {},
   "outputs": [
    {
     "data": {
      "text/plain": [
       "0       2.552.871\n",
       "1       7.456.046\n",
       "2         913.456\n",
       "3         621.529\n",
       "4       1.563.593\n",
       "          ...    \n",
       "2499    4.226.752\n",
       "2500      467.932\n",
       "2501    1.147.768\n",
       "2502      714.277\n",
       "2503      241.925\n",
       "Name: likes, Length: 2504, dtype: object"
      ]
     },
     "execution_count": 107,
     "metadata": {},
     "output_type": "execute_result"
    }
   ],
   "source": [
    "post_details['likes'].apply(lambda x: x.replace(',',''))"
   ]
  },
  {
   "cell_type": "code",
   "execution_count": 108,
   "metadata": {},
   "outputs": [],
   "source": [
    "post_details['likes'] = (post_details['likes'].replace('\\.','', regex=True)\n",
    "                        .astype(int))"
   ]
  },
  {
   "cell_type": "code",
   "execution_count": 109,
   "metadata": {},
   "outputs": [
    {
     "data": {
      "text/html": [
       "<div>\n",
       "<style scoped>\n",
       "    .dataframe tbody tr th:only-of-type {\n",
       "        vertical-align: middle;\n",
       "    }\n",
       "\n",
       "    .dataframe tbody tr th {\n",
       "        vertical-align: top;\n",
       "    }\n",
       "\n",
       "    .dataframe thead th {\n",
       "        text-align: right;\n",
       "    }\n",
       "</style>\n",
       "<table border=\"1\" class=\"dataframe\">\n",
       "  <thead>\n",
       "    <tr style=\"text-align: right;\">\n",
       "      <th></th>\n",
       "      <th>id</th>\n",
       "      <th>url</th>\n",
       "      <th>post_type</th>\n",
       "      <th>likes</th>\n",
       "      <th>time_posted</th>\n",
       "      <th>caption</th>\n",
       "      <th>user_name</th>\n",
       "    </tr>\n",
       "  </thead>\n",
       "  <tbody>\n",
       "    <tr>\n",
       "      <th>0</th>\n",
       "      <td>4</td>\n",
       "      <td>https://www.instagram.com/p/B7q5Qxyg8FZ/</td>\n",
       "      <td>video</td>\n",
       "      <td>2552871</td>\n",
       "      <td>2020-01-23 18:18:03+01</td>\n",
       "      <td>Karen Ip (@fruitypoppin) knows how it feels to...</td>\n",
       "      <td>instagram</td>\n",
       "    </tr>\n",
       "    <tr>\n",
       "      <th>1</th>\n",
       "      <td>5</td>\n",
       "      <td>https://www.instagram.com/p/B7ocUPsAq1_/</td>\n",
       "      <td>video</td>\n",
       "      <td>7456046</td>\n",
       "      <td>2020-01-22 19:26:12+01</td>\n",
       "      <td>Adrian Steckeweh (@omega.c) has a warped sense...</td>\n",
       "      <td>instagram</td>\n",
       "    </tr>\n",
       "    <tr>\n",
       "      <th>2</th>\n",
       "      <td>6</td>\n",
       "      <td>https://www.instagram.com/p/B7lwdBHAwIw/</td>\n",
       "      <td>photo</td>\n",
       "      <td>913456</td>\n",
       "      <td>2020-01-21 18:23:47+01</td>\n",
       "      <td>As one of Japan’s top competition boulderers, ...</td>\n",
       "      <td>instagram</td>\n",
       "    </tr>\n",
       "    <tr>\n",
       "      <th>3</th>\n",
       "      <td>7</td>\n",
       "      <td>https://www.instagram.com/p/B7jMF3dg8RH/</td>\n",
       "      <td>photo</td>\n",
       "      <td>621529</td>\n",
       "      <td>2020-01-20 18:27:35+01</td>\n",
       "      <td>Parker Kit Hill (@parkerkithill) refuses to be...</td>\n",
       "      <td>instagram</td>\n",
       "    </tr>\n",
       "    <tr>\n",
       "      <th>4</th>\n",
       "      <td>8</td>\n",
       "      <td>https://www.instagram.com/p/B7gtmEJA3Oc/</td>\n",
       "      <td>photo</td>\n",
       "      <td>1563593</td>\n",
       "      <td>2020-01-19 19:22:37+01</td>\n",
       "      <td>#HelloFrom Taimu Mountain in Fujian, China, wh...</td>\n",
       "      <td>instagram</td>\n",
       "    </tr>\n",
       "  </tbody>\n",
       "</table>\n",
       "</div>"
      ],
      "text/plain": [
       "   id                                       url post_type    likes  \\\n",
       "0   4  https://www.instagram.com/p/B7q5Qxyg8FZ/     video  2552871   \n",
       "1   5  https://www.instagram.com/p/B7ocUPsAq1_/     video  7456046   \n",
       "2   6  https://www.instagram.com/p/B7lwdBHAwIw/     photo   913456   \n",
       "3   7  https://www.instagram.com/p/B7jMF3dg8RH/     photo   621529   \n",
       "4   8  https://www.instagram.com/p/B7gtmEJA3Oc/     photo  1563593   \n",
       "\n",
       "              time_posted                                            caption  \\\n",
       "0  2020-01-23 18:18:03+01  Karen Ip (@fruitypoppin) knows how it feels to...   \n",
       "1  2020-01-22 19:26:12+01  Adrian Steckeweh (@omega.c) has a warped sense...   \n",
       "2  2020-01-21 18:23:47+01  As one of Japan’s top competition boulderers, ...   \n",
       "3  2020-01-20 18:27:35+01  Parker Kit Hill (@parkerkithill) refuses to be...   \n",
       "4  2020-01-19 19:22:37+01  #HelloFrom Taimu Mountain in Fujian, China, wh...   \n",
       "\n",
       "   user_name  \n",
       "0  instagram  \n",
       "1  instagram  \n",
       "2  instagram  \n",
       "3  instagram  \n",
       "4  instagram  "
      ]
     },
     "execution_count": 109,
     "metadata": {},
     "output_type": "execute_result"
    }
   ],
   "source": [
    "post_details.head()"
   ]
  },
  {
   "cell_type": "code",
   "execution_count": 112,
   "metadata": {},
   "outputs": [
    {
     "data": {
      "text/html": [
       "<div>\n",
       "<style scoped>\n",
       "    .dataframe tbody tr th:only-of-type {\n",
       "        vertical-align: middle;\n",
       "    }\n",
       "\n",
       "    .dataframe tbody tr th {\n",
       "        vertical-align: top;\n",
       "    }\n",
       "\n",
       "    .dataframe thead th {\n",
       "        text-align: right;\n",
       "    }\n",
       "</style>\n",
       "<table border=\"1\" class=\"dataframe\">\n",
       "  <thead>\n",
       "    <tr style=\"text-align: right;\">\n",
       "      <th></th>\n",
       "      <th>id</th>\n",
       "      <th>likes</th>\n",
       "    </tr>\n",
       "    <tr>\n",
       "      <th>post_type</th>\n",
       "      <th></th>\n",
       "      <th></th>\n",
       "    </tr>\n",
       "  </thead>\n",
       "  <tbody>\n",
       "    <tr>\n",
       "      <th>photo</th>\n",
       "      <td>2295448</td>\n",
       "      <td>3774093314</td>\n",
       "    </tr>\n",
       "    <tr>\n",
       "      <th>video</th>\n",
       "      <td>911933</td>\n",
       "      <td>3547407445</td>\n",
       "    </tr>\n",
       "  </tbody>\n",
       "</table>\n",
       "</div>"
      ],
      "text/plain": [
       "                id       likes\n",
       "post_type                     \n",
       "photo      2295448  3774093314\n",
       "video       911933  3547407445"
      ]
     },
     "execution_count": 112,
     "metadata": {},
     "output_type": "execute_result"
    }
   ],
   "source": [
    "post_details.groupby('post_type').sum()"
   ]
  },
  {
   "cell_type": "code",
   "execution_count": 113,
   "metadata": {},
   "outputs": [],
   "source": [
    "photo = post_details['post_type']=='photo'"
   ]
  },
  {
   "cell_type": "code",
   "execution_count": 115,
   "metadata": {},
   "outputs": [
    {
     "data": {
      "text/plain": [
       "id             1833\n",
       "url            1833\n",
       "post_type      1833\n",
       "likes          1833\n",
       "time_posted    1833\n",
       "caption        1734\n",
       "user_name      1833\n",
       "dtype: int64"
      ]
     },
     "execution_count": 115,
     "metadata": {},
     "output_type": "execute_result"
    }
   ],
   "source": [
    "post_details.where(photo).count()"
   ]
  },
  {
   "cell_type": "code",
   "execution_count": 120,
   "metadata": {},
   "outputs": [],
   "source": [
    "average_on_photo = 3774093314 /1833"
   ]
  },
  {
   "cell_type": "code",
   "execution_count": 121,
   "metadata": {},
   "outputs": [
    {
     "data": {
      "text/plain": [
       "2058970.711402073"
      ]
     },
     "execution_count": 121,
     "metadata": {},
     "output_type": "execute_result"
    }
   ],
   "source": [
    "average_on_photo"
   ]
  },
  {
   "cell_type": "code",
   "execution_count": 122,
   "metadata": {},
   "outputs": [],
   "source": [
    "video = post_details['post_type']=='video'"
   ]
  },
  {
   "cell_type": "code",
   "execution_count": 123,
   "metadata": {},
   "outputs": [
    {
     "data": {
      "text/plain": [
       "id             671\n",
       "url            671\n",
       "post_type      671\n",
       "likes          671\n",
       "time_posted    671\n",
       "caption        660\n",
       "user_name      671\n",
       "dtype: int64"
      ]
     },
     "execution_count": 123,
     "metadata": {},
     "output_type": "execute_result"
    }
   ],
   "source": [
    "post_details.where(video).count()"
   ]
  },
  {
   "cell_type": "code",
   "execution_count": 124,
   "metadata": {},
   "outputs": [],
   "source": [
    "average_on_video = 3547407445 /671"
   ]
  },
  {
   "cell_type": "code",
   "execution_count": 125,
   "metadata": {},
   "outputs": [
    {
     "data": {
      "text/plain": [
       "5286747.309985097"
      ]
     },
     "execution_count": 125,
     "metadata": {},
     "output_type": "execute_result"
    }
   ],
   "source": [
    "average_on_video"
   ]
  },
  {
   "cell_type": "code",
   "execution_count": 126,
   "metadata": {},
   "outputs": [
    {
     "data": {
      "text/plain": [
       "62442"
      ]
     },
     "execution_count": 126,
     "metadata": {},
     "output_type": "execute_result"
    }
   ],
   "source": [
    "post_details.likes.min()"
   ]
  },
  {
   "cell_type": "code",
   "execution_count": 127,
   "metadata": {},
   "outputs": [
    {
     "data": {
      "text/plain": [
       "44834774"
      ]
     },
     "execution_count": 127,
     "metadata": {},
     "output_type": "execute_result"
    }
   ],
   "source": [
    "post_details.likes.max()"
   ]
  },
  {
   "cell_type": "code",
   "execution_count": 128,
   "metadata": {},
   "outputs": [
    {
     "data": {
      "text/plain": [
       "2923922.0283546327"
      ]
     },
     "execution_count": 128,
     "metadata": {},
     "output_type": "execute_result"
    }
   ],
   "source": [
    "post_details.likes.mean()"
   ]
  },
  {
   "cell_type": "code",
   "execution_count": 129,
   "metadata": {},
   "outputs": [
    {
     "data": {
      "text/plain": [
       "1817171.0"
      ]
     },
     "execution_count": 129,
     "metadata": {},
     "output_type": "execute_result"
    }
   ],
   "source": [
    "post_details.likes.median()"
   ]
  },
  {
   "cell_type": "code",
   "execution_count": 154,
   "metadata": {
    "scrolled": true
   },
   "outputs": [
    {
     "data": {
      "text/html": [
       "<div>\n",
       "<style scoped>\n",
       "    .dataframe tbody tr th:only-of-type {\n",
       "        vertical-align: middle;\n",
       "    }\n",
       "\n",
       "    .dataframe tbody tr th {\n",
       "        vertical-align: top;\n",
       "    }\n",
       "\n",
       "    .dataframe thead th {\n",
       "        text-align: right;\n",
       "    }\n",
       "</style>\n",
       "<table border=\"1\" class=\"dataframe\">\n",
       "  <thead>\n",
       "    <tr style=\"text-align: right;\">\n",
       "      <th></th>\n",
       "      <th>id</th>\n",
       "      <th>url</th>\n",
       "      <th>post_type</th>\n",
       "      <th>likes</th>\n",
       "      <th>time_posted</th>\n",
       "      <th>caption</th>\n",
       "      <th>user_name</th>\n",
       "    </tr>\n",
       "  </thead>\n",
       "  <tbody>\n",
       "    <tr>\n",
       "      <th>2161</th>\n",
       "      <td>2187.0</td>\n",
       "      <td>https://www.instagram.com/p/B7JpPbgFOet/</td>\n",
       "      <td>photo</td>\n",
       "      <td>12660083.0</td>\n",
       "      <td>2020-01-10 20:22:02+01</td>\n",
       "      <td>been gone</td>\n",
       "      <td>billieeilish</td>\n",
       "    </tr>\n",
       "    <tr>\n",
       "      <th>282</th>\n",
       "      <td>312.0</td>\n",
       "      <td>https://www.instagram.com/p/B6rH9Qvn8aV/</td>\n",
       "      <td>photo</td>\n",
       "      <td>12346704.0</td>\n",
       "      <td>2019-12-29 23:53:59+01</td>\n",
       "      <td>just didn’t feel right going into 2020 without...</td>\n",
       "      <td>kyliejenner</td>\n",
       "    </tr>\n",
       "    <tr>\n",
       "      <th>270</th>\n",
       "      <td>300.0</td>\n",
       "      <td>https://www.instagram.com/p/B7CsNZvHKEk/</td>\n",
       "      <td>photo</td>\n",
       "      <td>11632637.0</td>\n",
       "      <td>2020-01-08 03:33:17+01</td>\n",
       "      <td>Throwback🤰🏻pregnant with my baby girl. I can’t...</td>\n",
       "      <td>kyliejenner</td>\n",
       "    </tr>\n",
       "    <tr>\n",
       "      <th>287</th>\n",
       "      <td>317.0</td>\n",
       "      <td>https://www.instagram.com/p/B6gm1aKnqHZ/</td>\n",
       "      <td>photo</td>\n",
       "      <td>11379957.0</td>\n",
       "      <td>2019-12-25 21:52:09+01</td>\n",
       "      <td>Merry Christmas 🎁</td>\n",
       "      <td>kyliejenner</td>\n",
       "    </tr>\n",
       "    <tr>\n",
       "      <th>224</th>\n",
       "      <td>254.0</td>\n",
       "      <td>https://www.instagram.com/p/B5RY86CDHxC/</td>\n",
       "      <td>photo</td>\n",
       "      <td>11294608.0</td>\n",
       "      <td>2019-11-25 03:30:50+01</td>\n",
       "      <td>Feels good to be back. Thank you to my entire ...</td>\n",
       "      <td>selenagomez</td>\n",
       "    </tr>\n",
       "  </tbody>\n",
       "</table>\n",
       "</div>"
      ],
      "text/plain": [
       "          id                                       url post_type       likes  \\\n",
       "2161  2187.0  https://www.instagram.com/p/B7JpPbgFOet/     photo  12660083.0   \n",
       "282    312.0  https://www.instagram.com/p/B6rH9Qvn8aV/     photo  12346704.0   \n",
       "270    300.0  https://www.instagram.com/p/B7CsNZvHKEk/     photo  11632637.0   \n",
       "287    317.0  https://www.instagram.com/p/B6gm1aKnqHZ/     photo  11379957.0   \n",
       "224    254.0  https://www.instagram.com/p/B5RY86CDHxC/     photo  11294608.0   \n",
       "\n",
       "                 time_posted  \\\n",
       "2161  2020-01-10 20:22:02+01   \n",
       "282   2019-12-29 23:53:59+01   \n",
       "270   2020-01-08 03:33:17+01   \n",
       "287   2019-12-25 21:52:09+01   \n",
       "224   2019-11-25 03:30:50+01   \n",
       "\n",
       "                                                caption     user_name  \n",
       "2161                                          been gone  billieeilish  \n",
       "282   just didn’t feel right going into 2020 without...   kyliejenner  \n",
       "270   Throwback🤰🏻pregnant with my baby girl. I can’t...   kyliejenner  \n",
       "287                                   Merry Christmas 🎁   kyliejenner  \n",
       "224   Feels good to be back. Thank you to my entire ...   selenagomez  "
      ]
     },
     "execution_count": 154,
     "metadata": {},
     "output_type": "execute_result"
    }
   ],
   "source": [
    "post_details.where(post_details['post_type']=='photo').sort_values('likes', ascending=False).head()"
   ]
  },
  {
   "cell_type": "markdown",
   "metadata": {},
   "source": [
    "## Best performing photo has Billie Eilish - https://www.instagram.com/p/B7JpPbgFOet/ - number 45 on the list of most popular profiles:"
   ]
  },
  {
   "cell_type": "code",
   "execution_count": 157,
   "metadata": {},
   "outputs": [
    {
     "data": {
      "text/plain": [
       "id                                                 2187\n",
       "url            https://www.instagram.com/p/B7JpPbgFOet/\n",
       "post_type                                         photo\n",
       "likes                                          12660083\n",
       "time_posted                      2020-01-10 20:22:02+01\n",
       "caption                                       been gone\n",
       "user_name                                  billieeilish\n",
       "Name: 2161, dtype: object"
      ]
     },
     "execution_count": 157,
     "metadata": {},
     "output_type": "execute_result"
    }
   ],
   "source": [
    "post_details.iloc[2161]"
   ]
  },
  {
   "cell_type": "code",
   "execution_count": 152,
   "metadata": {},
   "outputs": [
    {
     "data": {
      "text/html": [
       "<div>\n",
       "<style scoped>\n",
       "    .dataframe tbody tr th:only-of-type {\n",
       "        vertical-align: middle;\n",
       "    }\n",
       "\n",
       "    .dataframe tbody tr th {\n",
       "        vertical-align: top;\n",
       "    }\n",
       "\n",
       "    .dataframe thead th {\n",
       "        text-align: right;\n",
       "    }\n",
       "</style>\n",
       "<table border=\"1\" class=\"dataframe\">\n",
       "  <thead>\n",
       "    <tr style=\"text-align: right;\">\n",
       "      <th></th>\n",
       "      <th>id</th>\n",
       "      <th>url</th>\n",
       "      <th>post_type</th>\n",
       "      <th>likes</th>\n",
       "      <th>time_posted</th>\n",
       "      <th>caption</th>\n",
       "      <th>user_name</th>\n",
       "    </tr>\n",
       "  </thead>\n",
       "  <tbody>\n",
       "    <tr>\n",
       "      <th>46</th>\n",
       "      <td>81.0</td>\n",
       "      <td>https://www.instagram.com/p/B6RNPBsg1wo/</td>\n",
       "      <td>video</td>\n",
       "      <td>44834774.0</td>\n",
       "      <td>2019-12-19 22:20:05+01</td>\n",
       "      <td>✈️</td>\n",
       "      <td>instagram</td>\n",
       "    </tr>\n",
       "    <tr>\n",
       "      <th>84</th>\n",
       "      <td>88.0</td>\n",
       "      <td>https://www.instagram.com/p/B55gk8DAL3Z/</td>\n",
       "      <td>video</td>\n",
       "      <td>38030981.0</td>\n",
       "      <td>2019-12-10 18:09:43+01</td>\n",
       "      <td>How can i not fall in love with my sweet princ...</td>\n",
       "      <td>cristiano</td>\n",
       "    </tr>\n",
       "    <tr>\n",
       "      <th>71</th>\n",
       "      <td>73.0</td>\n",
       "      <td>https://www.instagram.com/p/B6pv5lbAjfK/</td>\n",
       "      <td>video</td>\n",
       "      <td>33935130.0</td>\n",
       "      <td>2019-12-29 11:05:23+01</td>\n",
       "      <td>It was a pleasure to meet you @ali_amir_happy ...</td>\n",
       "      <td>cristiano</td>\n",
       "    </tr>\n",
       "    <tr>\n",
       "      <th>2165</th>\n",
       "      <td>2191.0</td>\n",
       "      <td>https://www.instagram.com/p/B5ssK06lKvw/</td>\n",
       "      <td>video</td>\n",
       "      <td>32896854.0</td>\n",
       "      <td>2019-12-05 18:00:50+01</td>\n",
       "      <td>“xanny” VIDEO OUT NOW! DIRECTED BY MEEE😁 GO WA...</td>\n",
       "      <td>billieeilish</td>\n",
       "    </tr>\n",
       "    <tr>\n",
       "      <th>2163</th>\n",
       "      <td>2189.0</td>\n",
       "      <td>https://www.instagram.com/p/B6M0NYiF6rJ/</td>\n",
       "      <td>video</td>\n",
       "      <td>30704514.0</td>\n",
       "      <td>2019-12-18 05:24:38+01</td>\n",
       "      <td>18 tomorrow</td>\n",
       "      <td>billieeilish</td>\n",
       "    </tr>\n",
       "  </tbody>\n",
       "</table>\n",
       "</div>"
      ],
      "text/plain": [
       "          id                                       url post_type       likes  \\\n",
       "46      81.0  https://www.instagram.com/p/B6RNPBsg1wo/     video  44834774.0   \n",
       "84      88.0  https://www.instagram.com/p/B55gk8DAL3Z/     video  38030981.0   \n",
       "71      73.0  https://www.instagram.com/p/B6pv5lbAjfK/     video  33935130.0   \n",
       "2165  2191.0  https://www.instagram.com/p/B5ssK06lKvw/     video  32896854.0   \n",
       "2163  2189.0  https://www.instagram.com/p/B6M0NYiF6rJ/     video  30704514.0   \n",
       "\n",
       "                 time_posted  \\\n",
       "46    2019-12-19 22:20:05+01   \n",
       "84    2019-12-10 18:09:43+01   \n",
       "71    2019-12-29 11:05:23+01   \n",
       "2165  2019-12-05 18:00:50+01   \n",
       "2163  2019-12-18 05:24:38+01   \n",
       "\n",
       "                                                caption     user_name  \n",
       "46                                                   ✈️     instagram  \n",
       "84    How can i not fall in love with my sweet princ...     cristiano  \n",
       "71    It was a pleasure to meet you @ali_amir_happy ...     cristiano  \n",
       "2165  “xanny” VIDEO OUT NOW! DIRECTED BY MEEE😁 GO WA...  billieeilish  \n",
       "2163                                        18 tomorrow  billieeilish  "
      ]
     },
     "execution_count": 152,
     "metadata": {},
     "output_type": "execute_result"
    }
   ],
   "source": [
    "post_details.where(post_details['post_type']=='video').sort_values('likes', ascending=False).head()"
   ]
  },
  {
   "cell_type": "markdown",
   "metadata": {},
   "source": [
    "## Best performing video belongs to Cristiano - https://www.instagram.com/p/B6RNPBsg1wo/ - He anyways has a profile with the most followers:"
   ]
  },
  {
   "cell_type": "code",
   "execution_count": 155,
   "metadata": {},
   "outputs": [
    {
     "data": {
      "text/plain": [
       "id                                                   81\n",
       "url            https://www.instagram.com/p/B6RNPBsg1wo/\n",
       "post_type                                         video\n",
       "likes                                          44834774\n",
       "time_posted                      2019-12-19 22:20:05+01\n",
       "caption                                              ✈️\n",
       "user_name                                     instagram\n",
       "Name: 46, dtype: object"
      ]
     },
     "execution_count": 155,
     "metadata": {},
     "output_type": "execute_result"
    }
   ],
   "source": [
    "post_details.iloc[46]"
   ]
  },
  {
   "cell_type": "code",
   "execution_count": 172,
   "metadata": {},
   "outputs": [],
   "source": [
    "post_details = pd.read_csv('post_details.csv', delimiter=';')"
   ]
  },
  {
   "cell_type": "code",
   "execution_count": 178,
   "metadata": {},
   "outputs": [],
   "source": [
    "post_details['timezone'] = post_details['time_posted'][17:]"
   ]
  },
  {
   "cell_type": "code",
   "execution_count": 179,
   "metadata": {},
   "outputs": [
    {
     "data": {
      "text/html": [
       "<div>\n",
       "<style scoped>\n",
       "    .dataframe tbody tr th:only-of-type {\n",
       "        vertical-align: middle;\n",
       "    }\n",
       "\n",
       "    .dataframe tbody tr th {\n",
       "        vertical-align: top;\n",
       "    }\n",
       "\n",
       "    .dataframe thead th {\n",
       "        text-align: right;\n",
       "    }\n",
       "</style>\n",
       "<table border=\"1\" class=\"dataframe\">\n",
       "  <thead>\n",
       "    <tr style=\"text-align: right;\">\n",
       "      <th></th>\n",
       "      <th>id</th>\n",
       "      <th>url</th>\n",
       "      <th>post_type</th>\n",
       "      <th>likes</th>\n",
       "      <th>time_posted</th>\n",
       "      <th>caption</th>\n",
       "      <th>user_name</th>\n",
       "      <th>timezone</th>\n",
       "    </tr>\n",
       "  </thead>\n",
       "  <tbody>\n",
       "    <tr>\n",
       "      <th>0</th>\n",
       "      <td>4</td>\n",
       "      <td>https://www.instagram.com/p/B7q5Qxyg8FZ/</td>\n",
       "      <td>video</td>\n",
       "      <td>2.552.871</td>\n",
       "      <td>2020-01-23 18:18:03+01</td>\n",
       "      <td>Karen Ip (@fruitypoppin) knows how it feels to...</td>\n",
       "      <td>instagram</td>\n",
       "      <td>NaN</td>\n",
       "    </tr>\n",
       "    <tr>\n",
       "      <th>1</th>\n",
       "      <td>5</td>\n",
       "      <td>https://www.instagram.com/p/B7ocUPsAq1_/</td>\n",
       "      <td>video</td>\n",
       "      <td>7.456.046</td>\n",
       "      <td>2020-01-22 19:26:12+01</td>\n",
       "      <td>Adrian Steckeweh (@omega.c) has a warped sense...</td>\n",
       "      <td>instagram</td>\n",
       "      <td>NaN</td>\n",
       "    </tr>\n",
       "    <tr>\n",
       "      <th>2</th>\n",
       "      <td>6</td>\n",
       "      <td>https://www.instagram.com/p/B7lwdBHAwIw/</td>\n",
       "      <td>photo</td>\n",
       "      <td>913.456</td>\n",
       "      <td>2020-01-21 18:23:47+01</td>\n",
       "      <td>As one of Japan’s top competition boulderers, ...</td>\n",
       "      <td>instagram</td>\n",
       "      <td>NaN</td>\n",
       "    </tr>\n",
       "    <tr>\n",
       "      <th>3</th>\n",
       "      <td>7</td>\n",
       "      <td>https://www.instagram.com/p/B7jMF3dg8RH/</td>\n",
       "      <td>photo</td>\n",
       "      <td>621.529</td>\n",
       "      <td>2020-01-20 18:27:35+01</td>\n",
       "      <td>Parker Kit Hill (@parkerkithill) refuses to be...</td>\n",
       "      <td>instagram</td>\n",
       "      <td>NaN</td>\n",
       "    </tr>\n",
       "    <tr>\n",
       "      <th>4</th>\n",
       "      <td>8</td>\n",
       "      <td>https://www.instagram.com/p/B7gtmEJA3Oc/</td>\n",
       "      <td>photo</td>\n",
       "      <td>1.563.593</td>\n",
       "      <td>2020-01-19 19:22:37+01</td>\n",
       "      <td>#HelloFrom Taimu Mountain in Fujian, China, wh...</td>\n",
       "      <td>instagram</td>\n",
       "      <td>NaN</td>\n",
       "    </tr>\n",
       "  </tbody>\n",
       "</table>\n",
       "</div>"
      ],
      "text/plain": [
       "   id                                       url post_type      likes  \\\n",
       "0   4  https://www.instagram.com/p/B7q5Qxyg8FZ/     video  2.552.871   \n",
       "1   5  https://www.instagram.com/p/B7ocUPsAq1_/     video  7.456.046   \n",
       "2   6  https://www.instagram.com/p/B7lwdBHAwIw/     photo    913.456   \n",
       "3   7  https://www.instagram.com/p/B7jMF3dg8RH/     photo    621.529   \n",
       "4   8  https://www.instagram.com/p/B7gtmEJA3Oc/     photo  1.563.593   \n",
       "\n",
       "              time_posted                                            caption  \\\n",
       "0  2020-01-23 18:18:03+01  Karen Ip (@fruitypoppin) knows how it feels to...   \n",
       "1  2020-01-22 19:26:12+01  Adrian Steckeweh (@omega.c) has a warped sense...   \n",
       "2  2020-01-21 18:23:47+01  As one of Japan’s top competition boulderers, ...   \n",
       "3  2020-01-20 18:27:35+01  Parker Kit Hill (@parkerkithill) refuses to be...   \n",
       "4  2020-01-19 19:22:37+01  #HelloFrom Taimu Mountain in Fujian, China, wh...   \n",
       "\n",
       "   user_name timezone  \n",
       "0  instagram      NaN  \n",
       "1  instagram      NaN  \n",
       "2  instagram      NaN  \n",
       "3  instagram      NaN  \n",
       "4  instagram      NaN  "
      ]
     },
     "execution_count": 179,
     "metadata": {},
     "output_type": "execute_result"
    }
   ],
   "source": [
    "post_details.head()"
   ]
  },
  {
   "cell_type": "code",
   "execution_count": null,
   "metadata": {},
   "outputs": [],
   "source": []
  },
  {
   "cell_type": "code",
   "execution_count": null,
   "metadata": {},
   "outputs": [],
   "source": []
  }
 ],
 "metadata": {
  "kernelspec": {
   "display_name": "Python 3",
   "language": "python",
   "name": "python3"
  },
  "language_info": {
   "codemirror_mode": {
    "name": "ipython",
    "version": 3
   },
   "file_extension": ".py",
   "mimetype": "text/x-python",
   "name": "python",
   "nbconvert_exporter": "python",
   "pygments_lexer": "ipython3",
   "version": "3.7.3"
  }
 },
 "nbformat": 4,
 "nbformat_minor": 2
}
